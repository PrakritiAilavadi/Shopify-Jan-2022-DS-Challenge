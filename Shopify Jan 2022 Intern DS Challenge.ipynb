{
 "cells": [
  {
   "cell_type": "markdown",
   "id": "b4534f72",
   "metadata": {},
   "source": [
    "# Shopify Summer Intern Data Science Challenge\n",
    "\n",
    "## Date: 6th Jan 2022\n",
    "## Submission by: Prakriti Ailavadi\n",
    "#### Master of Management Analytics Student, Rotman School of Management, University of Toronto\n",
    "<br><br>"
   ]
  },
  {
   "cell_type": "markdown",
   "id": "fa050c7b",
   "metadata": {},
   "source": [
    "# Question 1: \n",
    "<br><b>\n",
    "On Shopify, we have exactly 100 sneaker shops, and each of these shops sells only one model of shoe. We want to do some analysis of the average order value (AOV). When we look at orders data over a 30 day window, we naively calculate an AOV of $3145.13. Given that we know these shops are selling sneakers, a relatively affordable item, something seems wrong with our analysis. \n",
    "<br><br>\n",
    "1. Think about what could be going wrong with our calculation. Think about a better way to evaluate this data. <br>\n",
    "2. What metric would you report for this dataset? <br>\n",
    "3. What is its value? <br></b>\n",
    "<br>"
   ]
  },
  {
   "cell_type": "code",
   "execution_count": 2,
   "id": "8ac06f92",
   "metadata": {},
   "outputs": [],
   "source": [
    "import pandas as pd\n",
    "import numpy as np\n",
    "import matplotlib.pyplot as plt\n",
    "import seaborn as sns"
   ]
  },
  {
   "cell_type": "code",
   "execution_count": 3,
   "id": "60ce46cd",
   "metadata": {},
   "outputs": [
    {
     "data": {
      "text/html": [
       "<div>\n",
       "<style scoped>\n",
       "    .dataframe tbody tr th:only-of-type {\n",
       "        vertical-align: middle;\n",
       "    }\n",
       "\n",
       "    .dataframe tbody tr th {\n",
       "        vertical-align: top;\n",
       "    }\n",
       "\n",
       "    .dataframe thead th {\n",
       "        text-align: right;\n",
       "    }\n",
       "</style>\n",
       "<table border=\"1\" class=\"dataframe\">\n",
       "  <thead>\n",
       "    <tr style=\"text-align: right;\">\n",
       "      <th></th>\n",
       "      <th>order_id</th>\n",
       "      <th>shop_id</th>\n",
       "      <th>user_id</th>\n",
       "      <th>order_amount</th>\n",
       "      <th>total_items</th>\n",
       "      <th>payment_method</th>\n",
       "      <th>created_at</th>\n",
       "    </tr>\n",
       "  </thead>\n",
       "  <tbody>\n",
       "    <tr>\n",
       "      <th>0</th>\n",
       "      <td>1</td>\n",
       "      <td>53</td>\n",
       "      <td>746</td>\n",
       "      <td>224</td>\n",
       "      <td>2</td>\n",
       "      <td>cash</td>\n",
       "      <td>2017-03-13 12:36:56</td>\n",
       "    </tr>\n",
       "    <tr>\n",
       "      <th>1</th>\n",
       "      <td>2</td>\n",
       "      <td>92</td>\n",
       "      <td>925</td>\n",
       "      <td>90</td>\n",
       "      <td>1</td>\n",
       "      <td>cash</td>\n",
       "      <td>2017-03-03 17:38:52</td>\n",
       "    </tr>\n",
       "    <tr>\n",
       "      <th>2</th>\n",
       "      <td>3</td>\n",
       "      <td>44</td>\n",
       "      <td>861</td>\n",
       "      <td>144</td>\n",
       "      <td>1</td>\n",
       "      <td>cash</td>\n",
       "      <td>2017-03-14 4:23:56</td>\n",
       "    </tr>\n",
       "    <tr>\n",
       "      <th>3</th>\n",
       "      <td>4</td>\n",
       "      <td>18</td>\n",
       "      <td>935</td>\n",
       "      <td>156</td>\n",
       "      <td>1</td>\n",
       "      <td>credit_card</td>\n",
       "      <td>2017-03-26 12:43:37</td>\n",
       "    </tr>\n",
       "    <tr>\n",
       "      <th>4</th>\n",
       "      <td>5</td>\n",
       "      <td>18</td>\n",
       "      <td>883</td>\n",
       "      <td>156</td>\n",
       "      <td>1</td>\n",
       "      <td>credit_card</td>\n",
       "      <td>2017-03-01 4:35:11</td>\n",
       "    </tr>\n",
       "  </tbody>\n",
       "</table>\n",
       "</div>"
      ],
      "text/plain": [
       "   order_id  shop_id  user_id  order_amount  total_items payment_method  \\\n",
       "0         1       53      746           224            2           cash   \n",
       "1         2       92      925            90            1           cash   \n",
       "2         3       44      861           144            1           cash   \n",
       "3         4       18      935           156            1    credit_card   \n",
       "4         5       18      883           156            1    credit_card   \n",
       "\n",
       "            created_at  \n",
       "0  2017-03-13 12:36:56  \n",
       "1  2017-03-03 17:38:52  \n",
       "2   2017-03-14 4:23:56  \n",
       "3  2017-03-26 12:43:37  \n",
       "4   2017-03-01 4:35:11  "
      ]
     },
     "execution_count": 3,
     "metadata": {},
     "output_type": "execute_result"
    }
   ],
   "source": [
    "df = pd.read_csv(\"Data_Science_Intern_Challenge.csv\")\n",
    "df.head()"
   ]
  },
  {
   "cell_type": "markdown",
   "id": "18f8c8ce",
   "metadata": {},
   "source": [
    "### Basic Descriptive Stats"
   ]
  },
  {
   "cell_type": "code",
   "execution_count": 4,
   "id": "718aeea2",
   "metadata": {},
   "outputs": [
    {
     "data": {
      "text/plain": [
       "(5000, 7)"
      ]
     },
     "execution_count": 4,
     "metadata": {},
     "output_type": "execute_result"
    }
   ],
   "source": [
    "df.shape"
   ]
  },
  {
   "cell_type": "code",
   "execution_count": 6,
   "id": "5a3b8eca",
   "metadata": {},
   "outputs": [
    {
     "data": {
      "text/plain": [
       "100"
      ]
     },
     "execution_count": 6,
     "metadata": {},
     "output_type": "execute_result"
    }
   ],
   "source": [
    "df['shop_id'].nunique()"
   ]
  },
  {
   "cell_type": "code",
   "execution_count": 8,
   "id": "1e256db6",
   "metadata": {},
   "outputs": [
    {
     "data": {
      "text/plain": [
       "count                   5000\n",
       "unique                  4991\n",
       "top       2017-03-28 4:00:00\n",
       "freq                       3\n",
       "Name: created_at, dtype: object"
      ]
     },
     "execution_count": 8,
     "metadata": {},
     "output_type": "execute_result"
    }
   ],
   "source": [
    "df['created_at'].describe()"
   ]
  },
  {
   "cell_type": "code",
   "execution_count": 11,
   "id": "1dded1d2",
   "metadata": {},
   "outputs": [
    {
     "data": {
      "text/plain": [
       "53    68\n",
       "71    66\n",
       "19    64\n",
       "13    63\n",
       "89    61\n",
       "      ..\n",
       "74    38\n",
       "56    37\n",
       "67    37\n",
       "38    35\n",
       "85    35\n",
       "Name: shop_id, Length: 100, dtype: int64"
      ]
     },
     "execution_count": 11,
     "metadata": {},
     "output_type": "execute_result"
    }
   ],
   "source": [
    "df['shop_id'].value_counts()"
   ]
  },
  {
   "cell_type": "code",
   "execution_count": 12,
   "id": "aa065f67",
   "metadata": {},
   "outputs": [
    {
     "data": {
      "text/plain": [
       "'2017-03-01 0:08:09'"
      ]
     },
     "execution_count": 12,
     "metadata": {},
     "output_type": "execute_result"
    }
   ],
   "source": [
    "min(df['created_at'])"
   ]
  },
  {
   "cell_type": "code",
   "execution_count": 13,
   "id": "1a404594",
   "metadata": {},
   "outputs": [
    {
     "data": {
      "text/plain": [
       "'2017-03-30 9:55:00'"
      ]
     },
     "execution_count": 13,
     "metadata": {},
     "output_type": "execute_result"
    }
   ],
   "source": [
    "max(df['created_at'])"
   ]
  },
  {
   "cell_type": "code",
   "execution_count": 5,
   "id": "7eabdcc6",
   "metadata": {},
   "outputs": [
    {
     "name": "stdout",
     "output_type": "stream",
     "text": [
      "<class 'pandas.core.frame.DataFrame'>\n",
      "RangeIndex: 5000 entries, 0 to 4999\n",
      "Data columns (total 7 columns):\n",
      " #   Column          Non-Null Count  Dtype \n",
      "---  ------          --------------  ----- \n",
      " 0   order_id        5000 non-null   int64 \n",
      " 1   shop_id         5000 non-null   int64 \n",
      " 2   user_id         5000 non-null   int64 \n",
      " 3   order_amount    5000 non-null   int64 \n",
      " 4   total_items     5000 non-null   int64 \n",
      " 5   payment_method  5000 non-null   object\n",
      " 6   created_at      5000 non-null   object\n",
      "dtypes: int64(5), object(2)\n",
      "memory usage: 273.6+ KB\n"
     ]
    }
   ],
   "source": [
    "df.info()"
   ]
  },
  {
   "cell_type": "code",
   "execution_count": 6,
   "id": "04949102",
   "metadata": {},
   "outputs": [
    {
     "data": {
      "text/html": [
       "<div>\n",
       "<style scoped>\n",
       "    .dataframe tbody tr th:only-of-type {\n",
       "        vertical-align: middle;\n",
       "    }\n",
       "\n",
       "    .dataframe tbody tr th {\n",
       "        vertical-align: top;\n",
       "    }\n",
       "\n",
       "    .dataframe thead th {\n",
       "        text-align: right;\n",
       "    }\n",
       "</style>\n",
       "<table border=\"1\" class=\"dataframe\">\n",
       "  <thead>\n",
       "    <tr style=\"text-align: right;\">\n",
       "      <th></th>\n",
       "      <th>order_id</th>\n",
       "      <th>shop_id</th>\n",
       "      <th>user_id</th>\n",
       "      <th>order_amount</th>\n",
       "      <th>total_items</th>\n",
       "    </tr>\n",
       "  </thead>\n",
       "  <tbody>\n",
       "    <tr>\n",
       "      <th>count</th>\n",
       "      <td>5000.000000</td>\n",
       "      <td>5000.000000</td>\n",
       "      <td>5000.000000</td>\n",
       "      <td>5000.000000</td>\n",
       "      <td>5000.00000</td>\n",
       "    </tr>\n",
       "    <tr>\n",
       "      <th>mean</th>\n",
       "      <td>2500.500000</td>\n",
       "      <td>50.078800</td>\n",
       "      <td>849.092400</td>\n",
       "      <td>3145.128000</td>\n",
       "      <td>8.78720</td>\n",
       "    </tr>\n",
       "    <tr>\n",
       "      <th>std</th>\n",
       "      <td>1443.520003</td>\n",
       "      <td>29.006118</td>\n",
       "      <td>87.798982</td>\n",
       "      <td>41282.539349</td>\n",
       "      <td>116.32032</td>\n",
       "    </tr>\n",
       "    <tr>\n",
       "      <th>min</th>\n",
       "      <td>1.000000</td>\n",
       "      <td>1.000000</td>\n",
       "      <td>607.000000</td>\n",
       "      <td>90.000000</td>\n",
       "      <td>1.00000</td>\n",
       "    </tr>\n",
       "    <tr>\n",
       "      <th>25%</th>\n",
       "      <td>1250.750000</td>\n",
       "      <td>24.000000</td>\n",
       "      <td>775.000000</td>\n",
       "      <td>163.000000</td>\n",
       "      <td>1.00000</td>\n",
       "    </tr>\n",
       "    <tr>\n",
       "      <th>50%</th>\n",
       "      <td>2500.500000</td>\n",
       "      <td>50.000000</td>\n",
       "      <td>849.000000</td>\n",
       "      <td>284.000000</td>\n",
       "      <td>2.00000</td>\n",
       "    </tr>\n",
       "    <tr>\n",
       "      <th>75%</th>\n",
       "      <td>3750.250000</td>\n",
       "      <td>75.000000</td>\n",
       "      <td>925.000000</td>\n",
       "      <td>390.000000</td>\n",
       "      <td>3.00000</td>\n",
       "    </tr>\n",
       "    <tr>\n",
       "      <th>max</th>\n",
       "      <td>5000.000000</td>\n",
       "      <td>100.000000</td>\n",
       "      <td>999.000000</td>\n",
       "      <td>704000.000000</td>\n",
       "      <td>2000.00000</td>\n",
       "    </tr>\n",
       "  </tbody>\n",
       "</table>\n",
       "</div>"
      ],
      "text/plain": [
       "          order_id      shop_id      user_id   order_amount  total_items\n",
       "count  5000.000000  5000.000000  5000.000000    5000.000000   5000.00000\n",
       "mean   2500.500000    50.078800   849.092400    3145.128000      8.78720\n",
       "std    1443.520003    29.006118    87.798982   41282.539349    116.32032\n",
       "min       1.000000     1.000000   607.000000      90.000000      1.00000\n",
       "25%    1250.750000    24.000000   775.000000     163.000000      1.00000\n",
       "50%    2500.500000    50.000000   849.000000     284.000000      2.00000\n",
       "75%    3750.250000    75.000000   925.000000     390.000000      3.00000\n",
       "max    5000.000000   100.000000   999.000000  704000.000000   2000.00000"
      ]
     },
     "execution_count": 6,
     "metadata": {},
     "output_type": "execute_result"
    }
   ],
   "source": [
    "df.describe()"
   ]
  },
  {
   "cell_type": "markdown",
   "id": "7538d9a7",
   "metadata": {},
   "source": [
    "<b>Clearly the error in the calculation is that the order amount column is just averaged over the 30 day period without considering the variation in the items ordered. This is misleading since if the quantity ordered is more, naturally the order_amount will be more. "
   ]
  },
  {
   "cell_type": "markdown",
   "id": "1a9d4cad",
   "metadata": {},
   "source": [
    "<br><b>Thus, <br>Average order value = Total Order Amount over 30 days/ Total number of items purchased over 30 days <br>\n",
    "This can be done:\n",
    "1. Overall\n",
    "2. Shop wise </b>"
   ]
  },
  {
   "cell_type": "markdown",
   "id": "ec044e4f",
   "metadata": {},
   "source": [
    "### Overall"
   ]
  },
  {
   "cell_type": "code",
   "execution_count": 14,
   "id": "3c8bb731",
   "metadata": {},
   "outputs": [
    {
     "data": {
      "text/plain": [
       "357.92152221412965"
      ]
     },
     "execution_count": 14,
     "metadata": {},
     "output_type": "execute_result"
    }
   ],
   "source": [
    "sum(df['order_amount'])/sum(df['total_items'])"
   ]
  },
  {
   "cell_type": "markdown",
   "id": "12f96fba",
   "metadata": {},
   "source": [
    "<b>The overall AOV is $ 357.92 </b>"
   ]
  },
  {
   "cell_type": "markdown",
   "id": "9aa76444",
   "metadata": {},
   "source": [
    "### Store wise"
   ]
  },
  {
   "cell_type": "code",
   "execution_count": 83,
   "id": "fe674643",
   "metadata": {},
   "outputs": [
    {
     "data": {
      "text/html": [
       "<div>\n",
       "<style scoped>\n",
       "    .dataframe tbody tr th:only-of-type {\n",
       "        vertical-align: middle;\n",
       "    }\n",
       "\n",
       "    .dataframe tbody tr th {\n",
       "        vertical-align: top;\n",
       "    }\n",
       "\n",
       "    .dataframe thead th {\n",
       "        text-align: right;\n",
       "    }\n",
       "</style>\n",
       "<table border=\"1\" class=\"dataframe\">\n",
       "  <thead>\n",
       "    <tr style=\"text-align: right;\">\n",
       "      <th></th>\n",
       "      <th>order_amount</th>\n",
       "      <th>total_items</th>\n",
       "      <th>AOV</th>\n",
       "    </tr>\n",
       "    <tr>\n",
       "      <th>shop_id</th>\n",
       "      <th></th>\n",
       "      <th></th>\n",
       "      <th></th>\n",
       "    </tr>\n",
       "  </thead>\n",
       "  <tbody>\n",
       "    <tr>\n",
       "      <th>1</th>\n",
       "      <td>13588</td>\n",
       "      <td>86</td>\n",
       "      <td>158.0</td>\n",
       "    </tr>\n",
       "    <tr>\n",
       "      <th>2</th>\n",
       "      <td>9588</td>\n",
       "      <td>102</td>\n",
       "      <td>94.0</td>\n",
       "    </tr>\n",
       "    <tr>\n",
       "      <th>3</th>\n",
       "      <td>14652</td>\n",
       "      <td>99</td>\n",
       "      <td>148.0</td>\n",
       "    </tr>\n",
       "    <tr>\n",
       "      <th>4</th>\n",
       "      <td>13184</td>\n",
       "      <td>103</td>\n",
       "      <td>128.0</td>\n",
       "    </tr>\n",
       "    <tr>\n",
       "      <th>5</th>\n",
       "      <td>13064</td>\n",
       "      <td>92</td>\n",
       "      <td>142.0</td>\n",
       "    </tr>\n",
       "  </tbody>\n",
       "</table>\n",
       "</div>"
      ],
      "text/plain": [
       "         order_amount  total_items    AOV\n",
       "shop_id                                  \n",
       "1               13588           86  158.0\n",
       "2                9588          102   94.0\n",
       "3               14652           99  148.0\n",
       "4               13184          103  128.0\n",
       "5               13064           92  142.0"
      ]
     },
     "execution_count": 83,
     "metadata": {},
     "output_type": "execute_result"
    }
   ],
   "source": [
    "df_grouped = df.groupby('shop_id')[['order_amount', 'total_items']].sum()\n",
    "df_grouped['AOV'] = df_grouped['order_amount']/df_grouped['total_items']\n",
    "df_grouped.head()"
   ]
  },
  {
   "cell_type": "code",
   "execution_count": 84,
   "id": "155db8b0",
   "metadata": {},
   "outputs": [
    {
     "name": "stdout",
     "output_type": "stream",
     "text": [
      "Maximum Store wise AOV:  25725.0\n",
      "Maximum Store wise AOV:  90.0\n"
     ]
    }
   ],
   "source": [
    "print(\"Maximum Store wise AOV: \", max(df_grouped['AOV']))\n",
    "print(\"Maximum Store wise AOV: \", min(df_grouped['AOV']))"
   ]
  },
  {
   "cell_type": "code",
   "execution_count": 9,
   "id": "b96745ac",
   "metadata": {},
   "outputs": [
    {
     "name": "stdout",
     "output_type": "stream",
     "text": [
      "Maximum order amount:  704000\n",
      "Minimum order amount:  90\n"
     ]
    }
   ],
   "source": [
    "print(\"Maximum order amount: \", max(df['order_amount']))\n",
    "print(\"Minimum order amount: \", min(df['order_amount']))"
   ]
  },
  {
   "cell_type": "code",
   "execution_count": 85,
   "id": "0ab2d343",
   "metadata": {},
   "outputs": [
    {
     "data": {
      "text/plain": [
       "407.99"
      ]
     },
     "execution_count": 85,
     "metadata": {},
     "output_type": "execute_result"
    }
   ],
   "source": [
    "df_grouped['AOV'].mean()"
   ]
  },
  {
   "cell_type": "code",
   "execution_count": 11,
   "id": "26481d07",
   "metadata": {},
   "outputs": [
    {
     "data": {
      "text/plain": [
       "Int64Index([  1,   2,   3,   4,   5,   6,   7,   8,   9,  10,  11,  12,  13,\n",
       "             14,  15,  16,  17,  18,  19,  20,  21,  22,  23,  24,  25,  26,\n",
       "             27,  28,  29,  30,  31,  32,  33,  34,  35,  36,  37,  38,  39,\n",
       "             40,  41,  42,  43,  44,  45,  46,  47,  48,  49,  50,  51,  52,\n",
       "             53,  54,  55,  56,  57,  58,  59,  60,  61,  62,  63,  64,  65,\n",
       "             66,  67,  68,  69,  70,  71,  72,  73,  74,  75,  76,  77,  78,\n",
       "             79,  80,  81,  82,  83,  84,  85,  86,  87,  88,  89,  90,  91,\n",
       "             92,  93,  94,  95,  96,  97,  98,  99, 100],\n",
       "           dtype='int64', name='shop_id')"
      ]
     },
     "execution_count": 11,
     "metadata": {},
     "output_type": "execute_result"
    }
   ],
   "source": [
    "df_grouped.index"
   ]
  },
  {
   "cell_type": "code",
   "execution_count": 15,
   "id": "72296402",
   "metadata": {},
   "outputs": [
    {
     "data": {
      "image/png": "[encoded data removed]",
      "text/plain": [
       "<Figure size 432x288 with 1 Axes>"
      ]
     },
     "metadata": {
      "needs_background": "light"
     },
     "output_type": "display_data"
    }
   ],
   "source": [
    "fig, ax = plt.subplots()\n",
    "\n",
    "# Save the chart so we can loop through the bars below.\n",
    "bars = ax.bar(\n",
    "    x=df_grouped.index,\n",
    "    height=df_grouped['AOV']\n",
    ")\n",
    "\n",
    "# Axis formatting.\n",
    "ax.spines['top'].set_visible(False)\n",
    "ax.spines['right'].set_visible(False)\n",
    "ax.spines['left'].set_visible(False)\n",
    "ax.spines['bottom'].set_color('#DDDDDD')\n",
    "ax.tick_params(bottom=False, left=False)\n",
    "ax.set_axisbelow(True)\n",
    "ax.yaxis.grid(True, color='#EEEEEE')\n",
    "ax.xaxis.grid(False)\n",
    "\n",
    "# Add text annotations to the top of the bars.\n",
    "bar_color = bars[0].get_facecolor()\n",
    "for bar in bars:\n",
    "  ax.text(\n",
    "      bar.get_x() + bar.get_width() / 2,\n",
    "      bar.get_height() + 0.3,\n",
    "      round(bar.get_height(), 1),\n",
    "      horizontalalignment='center',\n",
    "      color=bar_color,\n",
    "      weight='bold'\n",
    "  )\n",
    "\n",
    "# Add labels and a title. Note the use of `labelpad` and `pad` to add some\n",
    "# extra space between the text and the tick labels.\n",
    "ax.set_xlabel('Shop ID', labelpad=15, color='#333333')\n",
    "ax.set_ylabel('Average Order Value', labelpad=15, color='#333333')\n",
    "ax.set_title('Average Order Value by Shop ID', pad=15, color='#333333',\n",
    "             weight='bold')\n",
    "\n",
    "fig.tight_layout()"
   ]
  },
  {
   "cell_type": "code",
   "execution_count": 6,
   "id": "79622040",
   "metadata": {},
   "outputs": [
    {
     "data": {
      "text/html": [
       "<div>\n",
       "<style scoped>\n",
       "    .dataframe tbody tr th:only-of-type {\n",
       "        vertical-align: middle;\n",
       "    }\n",
       "\n",
       "    .dataframe tbody tr th {\n",
       "        vertical-align: top;\n",
       "    }\n",
       "\n",
       "    .dataframe thead th {\n",
       "        text-align: right;\n",
       "    }\n",
       "</style>\n",
       "<table border=\"1\" class=\"dataframe\">\n",
       "  <thead>\n",
       "    <tr style=\"text-align: right;\">\n",
       "      <th></th>\n",
       "      <th>order_amount</th>\n",
       "      <th>total_items</th>\n",
       "      <th>AOV</th>\n",
       "    </tr>\n",
       "    <tr>\n",
       "      <th>shop_id</th>\n",
       "      <th></th>\n",
       "      <th></th>\n",
       "      <th></th>\n",
       "    </tr>\n",
       "  </thead>\n",
       "  <tbody>\n",
       "    <tr>\n",
       "      <th>78</th>\n",
       "      <td>2263800</td>\n",
       "      <td>88</td>\n",
       "      <td>25725.0</td>\n",
       "    </tr>\n",
       "  </tbody>\n",
       "</table>\n",
       "</div>"
      ],
      "text/plain": [
       "         order_amount  total_items      AOV\n",
       "shop_id                                    \n",
       "78            2263800           88  25725.0"
      ]
     },
     "execution_count": 6,
     "metadata": {},
     "output_type": "execute_result"
    }
   ],
   "source": [
    "# Analyzing which store has such high AOV\n",
    "df_grouped[df_grouped['AOV'] == max(df_grouped['AOV'])]"
   ]
  },
  {
   "cell_type": "code",
   "execution_count": 8,
   "id": "3e6d5068",
   "metadata": {
    "scrolled": true
   },
   "outputs": [
    {
     "data": {
      "text/html": [
       "<div>\n",
       "<style scoped>\n",
       "    .dataframe tbody tr th:only-of-type {\n",
       "        vertical-align: middle;\n",
       "    }\n",
       "\n",
       "    .dataframe tbody tr th {\n",
       "        vertical-align: top;\n",
       "    }\n",
       "\n",
       "    .dataframe thead th {\n",
       "        text-align: right;\n",
       "    }\n",
       "</style>\n",
       "<table border=\"1\" class=\"dataframe\">\n",
       "  <thead>\n",
       "    <tr style=\"text-align: right;\">\n",
       "      <th></th>\n",
       "      <th>order_id</th>\n",
       "      <th>shop_id</th>\n",
       "      <th>user_id</th>\n",
       "      <th>order_amount</th>\n",
       "      <th>total_items</th>\n",
       "      <th>payment_method</th>\n",
       "      <th>created_at</th>\n",
       "    </tr>\n",
       "  </thead>\n",
       "  <tbody>\n",
       "    <tr>\n",
       "      <th>160</th>\n",
       "      <td>161</td>\n",
       "      <td>78</td>\n",
       "      <td>990</td>\n",
       "      <td>25725</td>\n",
       "      <td>1</td>\n",
       "      <td>credit_card</td>\n",
       "      <td>2017-03-12 5:56:57</td>\n",
       "    </tr>\n",
       "    <tr>\n",
       "      <th>490</th>\n",
       "      <td>491</td>\n",
       "      <td>78</td>\n",
       "      <td>936</td>\n",
       "      <td>51450</td>\n",
       "      <td>2</td>\n",
       "      <td>debit</td>\n",
       "      <td>2017-03-26 17:08:19</td>\n",
       "    </tr>\n",
       "    <tr>\n",
       "      <th>493</th>\n",
       "      <td>494</td>\n",
       "      <td>78</td>\n",
       "      <td>983</td>\n",
       "      <td>51450</td>\n",
       "      <td>2</td>\n",
       "      <td>cash</td>\n",
       "      <td>2017-03-16 21:39:35</td>\n",
       "    </tr>\n",
       "    <tr>\n",
       "      <th>511</th>\n",
       "      <td>512</td>\n",
       "      <td>78</td>\n",
       "      <td>967</td>\n",
       "      <td>51450</td>\n",
       "      <td>2</td>\n",
       "      <td>cash</td>\n",
       "      <td>2017-03-09 7:23:14</td>\n",
       "    </tr>\n",
       "    <tr>\n",
       "      <th>617</th>\n",
       "      <td>618</td>\n",
       "      <td>78</td>\n",
       "      <td>760</td>\n",
       "      <td>51450</td>\n",
       "      <td>2</td>\n",
       "      <td>cash</td>\n",
       "      <td>2017-03-18 11:18:42</td>\n",
       "    </tr>\n",
       "    <tr>\n",
       "      <th>691</th>\n",
       "      <td>692</td>\n",
       "      <td>78</td>\n",
       "      <td>878</td>\n",
       "      <td>154350</td>\n",
       "      <td>6</td>\n",
       "      <td>debit</td>\n",
       "      <td>2017-03-27 22:51:43</td>\n",
       "    </tr>\n",
       "    <tr>\n",
       "      <th>1056</th>\n",
       "      <td>1057</td>\n",
       "      <td>78</td>\n",
       "      <td>800</td>\n",
       "      <td>25725</td>\n",
       "      <td>1</td>\n",
       "      <td>debit</td>\n",
       "      <td>2017-03-15 10:16:45</td>\n",
       "    </tr>\n",
       "    <tr>\n",
       "      <th>1193</th>\n",
       "      <td>1194</td>\n",
       "      <td>78</td>\n",
       "      <td>944</td>\n",
       "      <td>25725</td>\n",
       "      <td>1</td>\n",
       "      <td>debit</td>\n",
       "      <td>2017-03-16 16:38:26</td>\n",
       "    </tr>\n",
       "    <tr>\n",
       "      <th>1204</th>\n",
       "      <td>1205</td>\n",
       "      <td>78</td>\n",
       "      <td>970</td>\n",
       "      <td>25725</td>\n",
       "      <td>1</td>\n",
       "      <td>credit_card</td>\n",
       "      <td>2017-03-17 22:32:21</td>\n",
       "    </tr>\n",
       "    <tr>\n",
       "      <th>1259</th>\n",
       "      <td>1260</td>\n",
       "      <td>78</td>\n",
       "      <td>775</td>\n",
       "      <td>77175</td>\n",
       "      <td>3</td>\n",
       "      <td>credit_card</td>\n",
       "      <td>2017-03-27 9:27:20</td>\n",
       "    </tr>\n",
       "    <tr>\n",
       "      <th>1384</th>\n",
       "      <td>1385</td>\n",
       "      <td>78</td>\n",
       "      <td>867</td>\n",
       "      <td>25725</td>\n",
       "      <td>1</td>\n",
       "      <td>cash</td>\n",
       "      <td>2017-03-17 16:38:06</td>\n",
       "    </tr>\n",
       "    <tr>\n",
       "      <th>1419</th>\n",
       "      <td>1420</td>\n",
       "      <td>78</td>\n",
       "      <td>912</td>\n",
       "      <td>25725</td>\n",
       "      <td>1</td>\n",
       "      <td>cash</td>\n",
       "      <td>2017-03-30 12:23:43</td>\n",
       "    </tr>\n",
       "    <tr>\n",
       "      <th>1452</th>\n",
       "      <td>1453</td>\n",
       "      <td>78</td>\n",
       "      <td>812</td>\n",
       "      <td>25725</td>\n",
       "      <td>1</td>\n",
       "      <td>credit_card</td>\n",
       "      <td>2017-03-17 18:09:54</td>\n",
       "    </tr>\n",
       "    <tr>\n",
       "      <th>1529</th>\n",
       "      <td>1530</td>\n",
       "      <td>78</td>\n",
       "      <td>810</td>\n",
       "      <td>51450</td>\n",
       "      <td>2</td>\n",
       "      <td>cash</td>\n",
       "      <td>2017-03-29 7:12:01</td>\n",
       "    </tr>\n",
       "    <tr>\n",
       "      <th>2270</th>\n",
       "      <td>2271</td>\n",
       "      <td>78</td>\n",
       "      <td>855</td>\n",
       "      <td>25725</td>\n",
       "      <td>1</td>\n",
       "      <td>credit_card</td>\n",
       "      <td>2017-03-14 23:58:22</td>\n",
       "    </tr>\n",
       "    <tr>\n",
       "      <th>2452</th>\n",
       "      <td>2453</td>\n",
       "      <td>78</td>\n",
       "      <td>709</td>\n",
       "      <td>51450</td>\n",
       "      <td>2</td>\n",
       "      <td>cash</td>\n",
       "      <td>2017-03-27 11:04:04</td>\n",
       "    </tr>\n",
       "    <tr>\n",
       "      <th>2492</th>\n",
       "      <td>2493</td>\n",
       "      <td>78</td>\n",
       "      <td>834</td>\n",
       "      <td>102900</td>\n",
       "      <td>4</td>\n",
       "      <td>debit</td>\n",
       "      <td>2017-03-04 4:37:34</td>\n",
       "    </tr>\n",
       "    <tr>\n",
       "      <th>2495</th>\n",
       "      <td>2496</td>\n",
       "      <td>78</td>\n",
       "      <td>707</td>\n",
       "      <td>51450</td>\n",
       "      <td>2</td>\n",
       "      <td>cash</td>\n",
       "      <td>2017-03-26 4:38:52</td>\n",
       "    </tr>\n",
       "    <tr>\n",
       "      <th>2512</th>\n",
       "      <td>2513</td>\n",
       "      <td>78</td>\n",
       "      <td>935</td>\n",
       "      <td>51450</td>\n",
       "      <td>2</td>\n",
       "      <td>debit</td>\n",
       "      <td>2017-03-18 18:57:13</td>\n",
       "    </tr>\n",
       "    <tr>\n",
       "      <th>2548</th>\n",
       "      <td>2549</td>\n",
       "      <td>78</td>\n",
       "      <td>861</td>\n",
       "      <td>25725</td>\n",
       "      <td>1</td>\n",
       "      <td>cash</td>\n",
       "      <td>2017-03-17 19:36:00</td>\n",
       "    </tr>\n",
       "    <tr>\n",
       "      <th>2564</th>\n",
       "      <td>2565</td>\n",
       "      <td>78</td>\n",
       "      <td>915</td>\n",
       "      <td>77175</td>\n",
       "      <td>3</td>\n",
       "      <td>debit</td>\n",
       "      <td>2017-03-25 1:19:35</td>\n",
       "    </tr>\n",
       "    <tr>\n",
       "      <th>2690</th>\n",
       "      <td>2691</td>\n",
       "      <td>78</td>\n",
       "      <td>962</td>\n",
       "      <td>77175</td>\n",
       "      <td>3</td>\n",
       "      <td>debit</td>\n",
       "      <td>2017-03-22 7:33:25</td>\n",
       "    </tr>\n",
       "    <tr>\n",
       "      <th>2773</th>\n",
       "      <td>2774</td>\n",
       "      <td>78</td>\n",
       "      <td>890</td>\n",
       "      <td>25725</td>\n",
       "      <td>1</td>\n",
       "      <td>cash</td>\n",
       "      <td>2017-03-26 10:36:43</td>\n",
       "    </tr>\n",
       "    <tr>\n",
       "      <th>2818</th>\n",
       "      <td>2819</td>\n",
       "      <td>78</td>\n",
       "      <td>869</td>\n",
       "      <td>51450</td>\n",
       "      <td>2</td>\n",
       "      <td>debit</td>\n",
       "      <td>2017-03-17 6:25:51</td>\n",
       "    </tr>\n",
       "    <tr>\n",
       "      <th>2821</th>\n",
       "      <td>2822</td>\n",
       "      <td>78</td>\n",
       "      <td>814</td>\n",
       "      <td>51450</td>\n",
       "      <td>2</td>\n",
       "      <td>cash</td>\n",
       "      <td>2017-03-02 17:13:25</td>\n",
       "    </tr>\n",
       "    <tr>\n",
       "      <th>2906</th>\n",
       "      <td>2907</td>\n",
       "      <td>78</td>\n",
       "      <td>817</td>\n",
       "      <td>77175</td>\n",
       "      <td>3</td>\n",
       "      <td>debit</td>\n",
       "      <td>2017-03-16 3:45:46</td>\n",
       "    </tr>\n",
       "    <tr>\n",
       "      <th>2922</th>\n",
       "      <td>2923</td>\n",
       "      <td>78</td>\n",
       "      <td>740</td>\n",
       "      <td>25725</td>\n",
       "      <td>1</td>\n",
       "      <td>debit</td>\n",
       "      <td>2017-03-12 20:10:58</td>\n",
       "    </tr>\n",
       "    <tr>\n",
       "      <th>3085</th>\n",
       "      <td>3086</td>\n",
       "      <td>78</td>\n",
       "      <td>910</td>\n",
       "      <td>25725</td>\n",
       "      <td>1</td>\n",
       "      <td>cash</td>\n",
       "      <td>2017-03-26 1:59:27</td>\n",
       "    </tr>\n",
       "    <tr>\n",
       "      <th>3101</th>\n",
       "      <td>3102</td>\n",
       "      <td>78</td>\n",
       "      <td>855</td>\n",
       "      <td>51450</td>\n",
       "      <td>2</td>\n",
       "      <td>credit_card</td>\n",
       "      <td>2017-03-21 5:10:34</td>\n",
       "    </tr>\n",
       "    <tr>\n",
       "      <th>3151</th>\n",
       "      <td>3152</td>\n",
       "      <td>78</td>\n",
       "      <td>745</td>\n",
       "      <td>25725</td>\n",
       "      <td>1</td>\n",
       "      <td>credit_card</td>\n",
       "      <td>2017-03-18 13:13:07</td>\n",
       "    </tr>\n",
       "    <tr>\n",
       "      <th>3167</th>\n",
       "      <td>3168</td>\n",
       "      <td>78</td>\n",
       "      <td>927</td>\n",
       "      <td>51450</td>\n",
       "      <td>2</td>\n",
       "      <td>cash</td>\n",
       "      <td>2017-03-12 12:23:08</td>\n",
       "    </tr>\n",
       "    <tr>\n",
       "      <th>3403</th>\n",
       "      <td>3404</td>\n",
       "      <td>78</td>\n",
       "      <td>928</td>\n",
       "      <td>77175</td>\n",
       "      <td>3</td>\n",
       "      <td>debit</td>\n",
       "      <td>2017-03-16 9:45:05</td>\n",
       "    </tr>\n",
       "    <tr>\n",
       "      <th>3440</th>\n",
       "      <td>3441</td>\n",
       "      <td>78</td>\n",
       "      <td>982</td>\n",
       "      <td>25725</td>\n",
       "      <td>1</td>\n",
       "      <td>debit</td>\n",
       "      <td>2017-03-19 19:02:54</td>\n",
       "    </tr>\n",
       "    <tr>\n",
       "      <th>3705</th>\n",
       "      <td>3706</td>\n",
       "      <td>78</td>\n",
       "      <td>828</td>\n",
       "      <td>51450</td>\n",
       "      <td>2</td>\n",
       "      <td>credit_card</td>\n",
       "      <td>2017-03-14 20:43:15</td>\n",
       "    </tr>\n",
       "    <tr>\n",
       "      <th>3724</th>\n",
       "      <td>3725</td>\n",
       "      <td>78</td>\n",
       "      <td>766</td>\n",
       "      <td>77175</td>\n",
       "      <td>3</td>\n",
       "      <td>credit_card</td>\n",
       "      <td>2017-03-16 14:13:26</td>\n",
       "    </tr>\n",
       "    <tr>\n",
       "      <th>3780</th>\n",
       "      <td>3781</td>\n",
       "      <td>78</td>\n",
       "      <td>889</td>\n",
       "      <td>25725</td>\n",
       "      <td>1</td>\n",
       "      <td>cash</td>\n",
       "      <td>2017-03-11 21:14:50</td>\n",
       "    </tr>\n",
       "    <tr>\n",
       "      <th>4040</th>\n",
       "      <td>4041</td>\n",
       "      <td>78</td>\n",
       "      <td>852</td>\n",
       "      <td>25725</td>\n",
       "      <td>1</td>\n",
       "      <td>cash</td>\n",
       "      <td>2017-03-02 14:31:12</td>\n",
       "    </tr>\n",
       "    <tr>\n",
       "      <th>4079</th>\n",
       "      <td>4080</td>\n",
       "      <td>78</td>\n",
       "      <td>946</td>\n",
       "      <td>51450</td>\n",
       "      <td>2</td>\n",
       "      <td>cash</td>\n",
       "      <td>2017-03-20 21:14:00</td>\n",
       "    </tr>\n",
       "    <tr>\n",
       "      <th>4192</th>\n",
       "      <td>4193</td>\n",
       "      <td>78</td>\n",
       "      <td>787</td>\n",
       "      <td>77175</td>\n",
       "      <td>3</td>\n",
       "      <td>credit_card</td>\n",
       "      <td>2017-03-18 9:25:32</td>\n",
       "    </tr>\n",
       "    <tr>\n",
       "      <th>4311</th>\n",
       "      <td>4312</td>\n",
       "      <td>78</td>\n",
       "      <td>960</td>\n",
       "      <td>51450</td>\n",
       "      <td>2</td>\n",
       "      <td>debit</td>\n",
       "      <td>2017-03-01 3:02:10</td>\n",
       "    </tr>\n",
       "    <tr>\n",
       "      <th>4412</th>\n",
       "      <td>4413</td>\n",
       "      <td>78</td>\n",
       "      <td>756</td>\n",
       "      <td>51450</td>\n",
       "      <td>2</td>\n",
       "      <td>debit</td>\n",
       "      <td>2017-03-02 4:13:39</td>\n",
       "    </tr>\n",
       "    <tr>\n",
       "      <th>4420</th>\n",
       "      <td>4421</td>\n",
       "      <td>78</td>\n",
       "      <td>969</td>\n",
       "      <td>77175</td>\n",
       "      <td>3</td>\n",
       "      <td>debit</td>\n",
       "      <td>2017-03-09 15:21:35</td>\n",
       "    </tr>\n",
       "    <tr>\n",
       "      <th>4505</th>\n",
       "      <td>4506</td>\n",
       "      <td>78</td>\n",
       "      <td>866</td>\n",
       "      <td>25725</td>\n",
       "      <td>1</td>\n",
       "      <td>debit</td>\n",
       "      <td>2017-03-22 22:06:01</td>\n",
       "    </tr>\n",
       "    <tr>\n",
       "      <th>4584</th>\n",
       "      <td>4585</td>\n",
       "      <td>78</td>\n",
       "      <td>997</td>\n",
       "      <td>25725</td>\n",
       "      <td>1</td>\n",
       "      <td>cash</td>\n",
       "      <td>2017-03-25 21:48:44</td>\n",
       "    </tr>\n",
       "    <tr>\n",
       "      <th>4715</th>\n",
       "      <td>4716</td>\n",
       "      <td>78</td>\n",
       "      <td>818</td>\n",
       "      <td>77175</td>\n",
       "      <td>3</td>\n",
       "      <td>debit</td>\n",
       "      <td>2017-03-05 5:10:44</td>\n",
       "    </tr>\n",
       "    <tr>\n",
       "      <th>4918</th>\n",
       "      <td>4919</td>\n",
       "      <td>78</td>\n",
       "      <td>823</td>\n",
       "      <td>25725</td>\n",
       "      <td>1</td>\n",
       "      <td>cash</td>\n",
       "      <td>2017-03-15 13:26:46</td>\n",
       "    </tr>\n",
       "  </tbody>\n",
       "</table>\n",
       "</div>"
      ],
      "text/plain": [
       "      order_id  shop_id  user_id  order_amount  total_items payment_method  \\\n",
       "160        161       78      990         25725            1    credit_card   \n",
       "490        491       78      936         51450            2          debit   \n",
       "493        494       78      983         51450            2           cash   \n",
       "511        512       78      967         51450            2           cash   \n",
       "617        618       78      760         51450            2           cash   \n",
       "691        692       78      878        154350            6          debit   \n",
       "1056      1057       78      800         25725            1          debit   \n",
       "1193      1194       78      944         25725            1          debit   \n",
       "1204      1205       78      970         25725            1    credit_card   \n",
       "1259      1260       78      775         77175            3    credit_card   \n",
       "1384      1385       78      867         25725            1           cash   \n",
       "1419      1420       78      912         25725            1           cash   \n",
       "1452      1453       78      812         25725            1    credit_card   \n",
       "1529      1530       78      810         51450            2           cash   \n",
       "2270      2271       78      855         25725            1    credit_card   \n",
       "2452      2453       78      709         51450            2           cash   \n",
       "2492      2493       78      834        102900            4          debit   \n",
       "2495      2496       78      707         51450            2           cash   \n",
       "2512      2513       78      935         51450            2          debit   \n",
       "2548      2549       78      861         25725            1           cash   \n",
       "2564      2565       78      915         77175            3          debit   \n",
       "2690      2691       78      962         77175            3          debit   \n",
       "2773      2774       78      890         25725            1           cash   \n",
       "2818      2819       78      869         51450            2          debit   \n",
       "2821      2822       78      814         51450            2           cash   \n",
       "2906      2907       78      817         77175            3          debit   \n",
       "2922      2923       78      740         25725            1          debit   \n",
       "3085      3086       78      910         25725            1           cash   \n",
       "3101      3102       78      855         51450            2    credit_card   \n",
       "3151      3152       78      745         25725            1    credit_card   \n",
       "3167      3168       78      927         51450            2           cash   \n",
       "3403      3404       78      928         77175            3          debit   \n",
       "3440      3441       78      982         25725            1          debit   \n",
       "3705      3706       78      828         51450            2    credit_card   \n",
       "3724      3725       78      766         77175            3    credit_card   \n",
       "3780      3781       78      889         25725            1           cash   \n",
       "4040      4041       78      852         25725            1           cash   \n",
       "4079      4080       78      946         51450            2           cash   \n",
       "4192      4193       78      787         77175            3    credit_card   \n",
       "4311      4312       78      960         51450            2          debit   \n",
       "4412      4413       78      756         51450            2          debit   \n",
       "4420      4421       78      969         77175            3          debit   \n",
       "4505      4506       78      866         25725            1          debit   \n",
       "4584      4585       78      997         25725            1           cash   \n",
       "4715      4716       78      818         77175            3          debit   \n",
       "4918      4919       78      823         25725            1           cash   \n",
       "\n",
       "               created_at  \n",
       "160    2017-03-12 5:56:57  \n",
       "490   2017-03-26 17:08:19  \n",
       "493   2017-03-16 21:39:35  \n",
       "511    2017-03-09 7:23:14  \n",
       "617   2017-03-18 11:18:42  \n",
       "691   2017-03-27 22:51:43  \n",
       "1056  2017-03-15 10:16:45  \n",
       "1193  2017-03-16 16:38:26  \n",
       "1204  2017-03-17 22:32:21  \n",
       "1259   2017-03-27 9:27:20  \n",
       "1384  2017-03-17 16:38:06  \n",
       "1419  2017-03-30 12:23:43  \n",
       "1452  2017-03-17 18:09:54  \n",
       "1529   2017-03-29 7:12:01  \n",
       "2270  2017-03-14 23:58:22  \n",
       "2452  2017-03-27 11:04:04  \n",
       "2492   2017-03-04 4:37:34  \n",
       "2495   2017-03-26 4:38:52  \n",
       "2512  2017-03-18 18:57:13  \n",
       "2548  2017-03-17 19:36:00  \n",
       "2564   2017-03-25 1:19:35  \n",
       "2690   2017-03-22 7:33:25  \n",
       "2773  2017-03-26 10:36:43  \n",
       "2818   2017-03-17 6:25:51  \n",
       "2821  2017-03-02 17:13:25  \n",
       "2906   2017-03-16 3:45:46  \n",
       "2922  2017-03-12 20:10:58  \n",
       "3085   2017-03-26 1:59:27  \n",
       "3101   2017-03-21 5:10:34  \n",
       "3151  2017-03-18 13:13:07  \n",
       "3167  2017-03-12 12:23:08  \n",
       "3403   2017-03-16 9:45:05  \n",
       "3440  2017-03-19 19:02:54  \n",
       "3705  2017-03-14 20:43:15  \n",
       "3724  2017-03-16 14:13:26  \n",
       "3780  2017-03-11 21:14:50  \n",
       "4040  2017-03-02 14:31:12  \n",
       "4079  2017-03-20 21:14:00  \n",
       "4192   2017-03-18 9:25:32  \n",
       "4311   2017-03-01 3:02:10  \n",
       "4412   2017-03-02 4:13:39  \n",
       "4420  2017-03-09 15:21:35  \n",
       "4505  2017-03-22 22:06:01  \n",
       "4584  2017-03-25 21:48:44  \n",
       "4715   2017-03-05 5:10:44  \n",
       "4918  2017-03-15 13:26:46  "
      ]
     },
     "execution_count": 8,
     "metadata": {},
     "output_type": "execute_result"
    }
   ],
   "source": [
    "df[df['shop_id'] == 78]"
   ]
  },
  {
   "cell_type": "markdown",
   "id": "93ffbb84",
   "metadata": {},
   "source": [
    "<b> Thus more data on store 78 clearly needs to be investigated for any data errors or fradulent transactions since the AOV and order amount is pretty high "
   ]
  },
  {
   "cell_type": "markdown",
   "id": "c80fba49",
   "metadata": {},
   "source": [
    "<b>Quick analysis of the rest of the stores"
   ]
  },
  {
   "cell_type": "code",
   "execution_count": 29,
   "id": "4286c3ee",
   "metadata": {
    "scrolled": true
   },
   "outputs": [
    {
     "data": {
      "text/plain": [
       "<Figure size 1600x800 with 0 Axes>"
      ]
     },
     "metadata": {},
     "output_type": "display_data"
    },
    {
     "data": {
      "image/png": "[encoded data removed]",
      "text/plain": [
       "<Figure size 1080x720 with 1 Axes>"
      ]
     },
     "metadata": {
      "needs_background": "light"
     },
     "output_type": "display_data"
    }
   ],
   "source": [
    "from matplotlib.pyplot import figure\n",
    "\n",
    "figure(figsize=(20, 10), dpi=80)\n",
    "df_grouped_cleaned = df_grouped[df_grouped['AOV'] != max(df_grouped['AOV'])]\n",
    "\n",
    "fig, ax = plt.subplots(figsize=(15, 10))\n",
    "bars = ax.bar(\n",
    "    x=df_grouped_cleaned.index,\n",
    "    height=df_grouped_cleaned['AOV']\n",
    ")\n",
    "\n",
    "# Axis formatting.\n",
    "ax.spines['top'].set_visible(False)\n",
    "ax.spines['right'].set_visible(False)\n",
    "ax.spines['left'].set_visible(False)\n",
    "ax.spines['bottom'].set_color('#DDDDDD')\n",
    "ax.tick_params(bottom=False, left=False)\n",
    "ax.set_axisbelow(True)\n",
    "ax.yaxis.grid(True, color='#EEEEEE')\n",
    "ax.xaxis.grid(False)\n",
    "\n",
    "# Add text annotations to the top of the bars.\n",
    "bar_color = bars[0].get_facecolor()\n",
    "for bar in bars:\n",
    "  ax.text(\n",
    "      bar.get_x() + bar.get_width() / 2,\n",
    "      bar.get_height() + 0.3,\n",
    "      round(bar.get_height(), 1),\n",
    "      horizontalalignment='center',\n",
    "      color=bar_color,\n",
    "      weight='bold'\n",
    "  )\n",
    "\n",
    "# Add labels and a title. Note the use of `labelpad` and `pad` to add some\n",
    "# extra space between the text and the tick labels.\n",
    "ax.set_xlabel('Shop ID', labelpad=15, color='#333333')\n",
    "ax.set_ylabel('Average Order Value', labelpad=15, color='#333333')\n",
    "ax.set_title('Average Order Value by Shop ID', pad=15, color='#333333',\n",
    "             weight='bold')\n",
    "\n",
    "fig.tight_layout()"
   ]
  },
  {
   "cell_type": "code",
   "execution_count": 30,
   "id": "6ac83ba4",
   "metadata": {},
   "outputs": [
    {
     "data": {
      "text/plain": [
       "307.01149425287355"
      ]
     },
     "execution_count": 30,
     "metadata": {},
     "output_type": "execute_result"
    }
   ],
   "source": [
    "# Average Order Value after excluding shop 78\n",
    "df_cleaned = df[df['shop_id'] != 78]\n",
    "sum(df_cleaned['order_amount'])/sum(df_cleaned['total_items'])"
   ]
  },
  {
   "cell_type": "code",
   "execution_count": 31,
   "id": "5b713a9b",
   "metadata": {},
   "outputs": [
    {
     "data": {
      "text/plain": [
       "152.26262626262627"
      ]
     },
     "execution_count": 31,
     "metadata": {},
     "output_type": "execute_result"
    }
   ],
   "source": [
    "# AOV per shop\n",
    "df_grouped_cleaned['AOV'].mean()"
   ]
  },
  {
   "cell_type": "markdown",
   "id": "532d9a53",
   "metadata": {},
   "source": [
    "<br>"
   ]
  },
  {
   "cell_type": "markdown",
   "id": "26b46568",
   "metadata": {},
   "source": [
    "## A median or mode order value might be a better way to evaluate the data"
   ]
  },
  {
   "cell_type": "markdown",
   "id": "88b1748f",
   "metadata": {},
   "source": [
    "a. Take the median/mode of AOV"
   ]
  },
  {
   "cell_type": "code",
   "execution_count": 39,
   "id": "953211de",
   "metadata": {},
   "outputs": [],
   "source": [
    "df_grouped = df.groupby('shop_id')[['order_amount']].sum()\n",
    "df_grouped['total_items'] = df.groupby('shop_id')[['total_items']].sum()\n",
    "df_grouped['AOV'] = df_grouped['order_amount']/df_grouped['total_items']"
   ]
  },
  {
   "cell_type": "code",
   "execution_count": 41,
   "id": "1182694c",
   "metadata": {},
   "outputs": [
    {
     "data": {
      "text/html": [
       "<div>\n",
       "<style scoped>\n",
       "    .dataframe tbody tr th:only-of-type {\n",
       "        vertical-align: middle;\n",
       "    }\n",
       "\n",
       "    .dataframe tbody tr th {\n",
       "        vertical-align: top;\n",
       "    }\n",
       "\n",
       "    .dataframe thead th {\n",
       "        text-align: right;\n",
       "    }\n",
       "</style>\n",
       "<table border=\"1\" class=\"dataframe\">\n",
       "  <thead>\n",
       "    <tr style=\"text-align: right;\">\n",
       "      <th></th>\n",
       "      <th>order_amount</th>\n",
       "      <th>total_items</th>\n",
       "      <th>AOV</th>\n",
       "    </tr>\n",
       "    <tr>\n",
       "      <th>shop_id</th>\n",
       "      <th></th>\n",
       "      <th></th>\n",
       "      <th></th>\n",
       "    </tr>\n",
       "  </thead>\n",
       "  <tbody>\n",
       "    <tr>\n",
       "      <th>1</th>\n",
       "      <td>13588</td>\n",
       "      <td>86</td>\n",
       "      <td>158.0</td>\n",
       "    </tr>\n",
       "    <tr>\n",
       "      <th>2</th>\n",
       "      <td>9588</td>\n",
       "      <td>102</td>\n",
       "      <td>94.0</td>\n",
       "    </tr>\n",
       "    <tr>\n",
       "      <th>3</th>\n",
       "      <td>14652</td>\n",
       "      <td>99</td>\n",
       "      <td>148.0</td>\n",
       "    </tr>\n",
       "    <tr>\n",
       "      <th>4</th>\n",
       "      <td>13184</td>\n",
       "      <td>103</td>\n",
       "      <td>128.0</td>\n",
       "    </tr>\n",
       "    <tr>\n",
       "      <th>5</th>\n",
       "      <td>13064</td>\n",
       "      <td>92</td>\n",
       "      <td>142.0</td>\n",
       "    </tr>\n",
       "  </tbody>\n",
       "</table>\n",
       "</div>"
      ],
      "text/plain": [
       "         order_amount  total_items    AOV\n",
       "shop_id                                  \n",
       "1               13588           86  158.0\n",
       "2                9588          102   94.0\n",
       "3               14652           99  148.0\n",
       "4               13184          103  128.0\n",
       "5               13064           92  142.0"
      ]
     },
     "execution_count": 41,
     "metadata": {},
     "output_type": "execute_result"
    }
   ],
   "source": [
    "df_grouped.head()"
   ]
  },
  {
   "cell_type": "code",
   "execution_count": 44,
   "id": "b3ec3239",
   "metadata": {},
   "outputs": [
    {
     "data": {
      "text/plain": [
       "153.0"
      ]
     },
     "execution_count": 44,
     "metadata": {},
     "output_type": "execute_result"
    }
   ],
   "source": [
    "df_grouped['AOV'].median()"
   ]
  },
  {
   "cell_type": "code",
   "execution_count": 46,
   "id": "5f9be025",
   "metadata": {},
   "outputs": [
    {
     "data": {
      "text/plain": [
       "0    153.0\n",
       "dtype: float64"
      ]
     },
     "execution_count": 46,
     "metadata": {},
     "output_type": "execute_result"
    }
   ],
   "source": [
    "df_grouped['AOV'].mode()"
   ]
  },
  {
   "cell_type": "markdown",
   "id": "ae998cde",
   "metadata": {},
   "source": [
    "<b> Thus we can report median or mode AOV value store wise to be $153 for sneakers."
   ]
  },
  {
   "cell_type": "markdown",
   "id": "134412aa",
   "metadata": {},
   "source": [
    "2. Median Order Value: This helps us get rid of outliers from the very start"
   ]
  },
  {
   "cell_type": "code",
   "execution_count": 48,
   "id": "4c8ca773",
   "metadata": {},
   "outputs": [
    {
     "data": {
      "text/html": [
       "<div>\n",
       "<style scoped>\n",
       "    .dataframe tbody tr th:only-of-type {\n",
       "        vertical-align: middle;\n",
       "    }\n",
       "\n",
       "    .dataframe tbody tr th {\n",
       "        vertical-align: top;\n",
       "    }\n",
       "\n",
       "    .dataframe thead th {\n",
       "        text-align: right;\n",
       "    }\n",
       "</style>\n",
       "<table border=\"1\" class=\"dataframe\">\n",
       "  <thead>\n",
       "    <tr style=\"text-align: right;\">\n",
       "      <th></th>\n",
       "      <th>order_id</th>\n",
       "      <th>shop_id</th>\n",
       "      <th>user_id</th>\n",
       "      <th>order_amount</th>\n",
       "      <th>total_items</th>\n",
       "      <th>payment_method</th>\n",
       "      <th>created_at</th>\n",
       "    </tr>\n",
       "  </thead>\n",
       "  <tbody>\n",
       "    <tr>\n",
       "      <th>0</th>\n",
       "      <td>1</td>\n",
       "      <td>53</td>\n",
       "      <td>746</td>\n",
       "      <td>224</td>\n",
       "      <td>2</td>\n",
       "      <td>cash</td>\n",
       "      <td>2017-03-13 12:36:56</td>\n",
       "    </tr>\n",
       "    <tr>\n",
       "      <th>1</th>\n",
       "      <td>2</td>\n",
       "      <td>92</td>\n",
       "      <td>925</td>\n",
       "      <td>90</td>\n",
       "      <td>1</td>\n",
       "      <td>cash</td>\n",
       "      <td>2017-03-03 17:38:52</td>\n",
       "    </tr>\n",
       "    <tr>\n",
       "      <th>2</th>\n",
       "      <td>3</td>\n",
       "      <td>44</td>\n",
       "      <td>861</td>\n",
       "      <td>144</td>\n",
       "      <td>1</td>\n",
       "      <td>cash</td>\n",
       "      <td>2017-03-14 4:23:56</td>\n",
       "    </tr>\n",
       "    <tr>\n",
       "      <th>3</th>\n",
       "      <td>4</td>\n",
       "      <td>18</td>\n",
       "      <td>935</td>\n",
       "      <td>156</td>\n",
       "      <td>1</td>\n",
       "      <td>credit_card</td>\n",
       "      <td>2017-03-26 12:43:37</td>\n",
       "    </tr>\n",
       "    <tr>\n",
       "      <th>4</th>\n",
       "      <td>5</td>\n",
       "      <td>18</td>\n",
       "      <td>883</td>\n",
       "      <td>156</td>\n",
       "      <td>1</td>\n",
       "      <td>credit_card</td>\n",
       "      <td>2017-03-01 4:35:11</td>\n",
       "    </tr>\n",
       "  </tbody>\n",
       "</table>\n",
       "</div>"
      ],
      "text/plain": [
       "   order_id  shop_id  user_id  order_amount  total_items payment_method  \\\n",
       "0         1       53      746           224            2           cash   \n",
       "1         2       92      925            90            1           cash   \n",
       "2         3       44      861           144            1           cash   \n",
       "3         4       18      935           156            1    credit_card   \n",
       "4         5       18      883           156            1    credit_card   \n",
       "\n",
       "            created_at  \n",
       "0  2017-03-13 12:36:56  \n",
       "1  2017-03-03 17:38:52  \n",
       "2   2017-03-14 4:23:56  \n",
       "3  2017-03-26 12:43:37  \n",
       "4   2017-03-01 4:35:11  "
      ]
     },
     "execution_count": 48,
     "metadata": {},
     "output_type": "execute_result"
    }
   ],
   "source": [
    "df.head()"
   ]
  },
  {
   "cell_type": "code",
   "execution_count": 49,
   "id": "fc2d4305",
   "metadata": {},
   "outputs": [
    {
     "data": {
      "text/html": [
       "<div>\n",
       "<style scoped>\n",
       "    .dataframe tbody tr th:only-of-type {\n",
       "        vertical-align: middle;\n",
       "    }\n",
       "\n",
       "    .dataframe tbody tr th {\n",
       "        vertical-align: top;\n",
       "    }\n",
       "\n",
       "    .dataframe thead th {\n",
       "        text-align: right;\n",
       "    }\n",
       "</style>\n",
       "<table border=\"1\" class=\"dataframe\">\n",
       "  <thead>\n",
       "    <tr style=\"text-align: right;\">\n",
       "      <th></th>\n",
       "      <th>order_id</th>\n",
       "      <th>shop_id</th>\n",
       "      <th>user_id</th>\n",
       "      <th>order_amount</th>\n",
       "      <th>total_items</th>\n",
       "      <th>payment_method</th>\n",
       "      <th>created_at</th>\n",
       "      <th>order_amount_per_item</th>\n",
       "    </tr>\n",
       "  </thead>\n",
       "  <tbody>\n",
       "    <tr>\n",
       "      <th>0</th>\n",
       "      <td>1</td>\n",
       "      <td>53</td>\n",
       "      <td>746</td>\n",
       "      <td>224</td>\n",
       "      <td>2</td>\n",
       "      <td>cash</td>\n",
       "      <td>2017-03-13 12:36:56</td>\n",
       "      <td>112.0</td>\n",
       "    </tr>\n",
       "    <tr>\n",
       "      <th>1</th>\n",
       "      <td>2</td>\n",
       "      <td>92</td>\n",
       "      <td>925</td>\n",
       "      <td>90</td>\n",
       "      <td>1</td>\n",
       "      <td>cash</td>\n",
       "      <td>2017-03-03 17:38:52</td>\n",
       "      <td>90.0</td>\n",
       "    </tr>\n",
       "    <tr>\n",
       "      <th>2</th>\n",
       "      <td>3</td>\n",
       "      <td>44</td>\n",
       "      <td>861</td>\n",
       "      <td>144</td>\n",
       "      <td>1</td>\n",
       "      <td>cash</td>\n",
       "      <td>2017-03-14 4:23:56</td>\n",
       "      <td>144.0</td>\n",
       "    </tr>\n",
       "    <tr>\n",
       "      <th>3</th>\n",
       "      <td>4</td>\n",
       "      <td>18</td>\n",
       "      <td>935</td>\n",
       "      <td>156</td>\n",
       "      <td>1</td>\n",
       "      <td>credit_card</td>\n",
       "      <td>2017-03-26 12:43:37</td>\n",
       "      <td>156.0</td>\n",
       "    </tr>\n",
       "    <tr>\n",
       "      <th>4</th>\n",
       "      <td>5</td>\n",
       "      <td>18</td>\n",
       "      <td>883</td>\n",
       "      <td>156</td>\n",
       "      <td>1</td>\n",
       "      <td>credit_card</td>\n",
       "      <td>2017-03-01 4:35:11</td>\n",
       "      <td>156.0</td>\n",
       "    </tr>\n",
       "  </tbody>\n",
       "</table>\n",
       "</div>"
      ],
      "text/plain": [
       "   order_id  shop_id  user_id  order_amount  total_items payment_method  \\\n",
       "0         1       53      746           224            2           cash   \n",
       "1         2       92      925            90            1           cash   \n",
       "2         3       44      861           144            1           cash   \n",
       "3         4       18      935           156            1    credit_card   \n",
       "4         5       18      883           156            1    credit_card   \n",
       "\n",
       "            created_at  order_amount_per_item  \n",
       "0  2017-03-13 12:36:56                  112.0  \n",
       "1  2017-03-03 17:38:52                   90.0  \n",
       "2   2017-03-14 4:23:56                  144.0  \n",
       "3  2017-03-26 12:43:37                  156.0  \n",
       "4   2017-03-01 4:35:11                  156.0  "
      ]
     },
     "execution_count": 49,
     "metadata": {},
     "output_type": "execute_result"
    }
   ],
   "source": [
    "df['order_amount_per_item'] = df['order_amount']/df['total_items']\n",
    "df.head()"
   ]
  },
  {
   "cell_type": "code",
   "execution_count": 50,
   "id": "ff7cd6bc",
   "metadata": {},
   "outputs": [
    {
     "data": {
      "text/plain": [
       "153.0"
      ]
     },
     "execution_count": 50,
     "metadata": {},
     "output_type": "execute_result"
    }
   ],
   "source": [
    "df['order_amount_per_item'].median()"
   ]
  },
  {
   "cell_type": "markdown",
   "id": "c2541375",
   "metadata": {},
   "source": [
    "<b> Thus the second approach is simple and much reliable."
   ]
  },
  {
   "cell_type": "markdown",
   "id": "dea3d81c",
   "metadata": {},
   "source": [
    "<br>"
   ]
  },
  {
   "cell_type": "markdown",
   "id": "af3bb15a",
   "metadata": {},
   "source": [
    "## Better Analysis -  Customer Value and Date Analysis"
   ]
  },
  {
   "cell_type": "markdown",
   "id": "52701f39",
   "metadata": {},
   "source": [
    "Average Order Value purchased by customer"
   ]
  },
  {
   "cell_type": "code",
   "execution_count": 51,
   "id": "18c5e92a",
   "metadata": {},
   "outputs": [
    {
     "name": "stdout",
     "output_type": "stream",
     "text": [
      "Number of Users:  301\n"
     ]
    }
   ],
   "source": [
    "print(\"Number of Users: \", df['user_id'].nunique())"
   ]
  },
  {
   "cell_type": "code",
   "execution_count": 72,
   "id": "afef5599",
   "metadata": {
    "scrolled": true
   },
   "outputs": [
    {
     "data": {
      "text/html": [
       "<div>\n",
       "<style scoped>\n",
       "    .dataframe tbody tr th:only-of-type {\n",
       "        vertical-align: middle;\n",
       "    }\n",
       "\n",
       "    .dataframe tbody tr th {\n",
       "        vertical-align: top;\n",
       "    }\n",
       "\n",
       "    .dataframe thead th {\n",
       "        text-align: right;\n",
       "    }\n",
       "</style>\n",
       "<table border=\"1\" class=\"dataframe\">\n",
       "  <thead>\n",
       "    <tr style=\"text-align: right;\">\n",
       "      <th></th>\n",
       "      <th>order_amount</th>\n",
       "      <th>total_items</th>\n",
       "      <th>Average Order Value per Customer</th>\n",
       "    </tr>\n",
       "    <tr>\n",
       "      <th>user_id</th>\n",
       "      <th></th>\n",
       "      <th></th>\n",
       "      <th></th>\n",
       "    </tr>\n",
       "  </thead>\n",
       "  <tbody>\n",
       "    <tr>\n",
       "      <th>878</th>\n",
       "      <td>156936</td>\n",
       "      <td>24</td>\n",
       "      <td>6539.000000</td>\n",
       "    </tr>\n",
       "    <tr>\n",
       "      <th>766</th>\n",
       "      <td>80076</td>\n",
       "      <td>23</td>\n",
       "      <td>3481.565217</td>\n",
       "    </tr>\n",
       "    <tr>\n",
       "      <th>962</th>\n",
       "      <td>80408</td>\n",
       "      <td>24</td>\n",
       "      <td>3350.333333</td>\n",
       "    </tr>\n",
       "    <tr>\n",
       "      <th>855</th>\n",
       "      <td>80915</td>\n",
       "      <td>27</td>\n",
       "      <td>2996.851852</td>\n",
       "    </tr>\n",
       "    <tr>\n",
       "      <th>775</th>\n",
       "      <td>81114</td>\n",
       "      <td>28</td>\n",
       "      <td>2896.928571</td>\n",
       "    </tr>\n",
       "  </tbody>\n",
       "</table>\n",
       "</div>"
      ],
      "text/plain": [
       "         order_amount  total_items  Average Order Value per Customer\n",
       "user_id                                                             \n",
       "878            156936           24                       6539.000000\n",
       "766             80076           23                       3481.565217\n",
       "962             80408           24                       3350.333333\n",
       "855             80915           27                       2996.851852\n",
       "775             81114           28                       2896.928571"
      ]
     },
     "execution_count": 72,
     "metadata": {},
     "output_type": "execute_result"
    }
   ],
   "source": [
    "df_grouped = df.groupby('user_id')[['order_amount', 'total_items']].sum()\n",
    "df_grouped['Average Order Value per Customer'] = df_grouped['order_amount']/df_grouped['total_items']\n",
    "df_grouped.sort_values(by=['Average Order Value per Customer'], ascending=False).head()"
   ]
  },
  {
   "cell_type": "code",
   "execution_count": 63,
   "id": "c8f7b26a",
   "metadata": {
    "scrolled": true
   },
   "outputs": [
    {
     "data": {
      "text/plain": [
       "{'whiskers': [<matplotlib.lines.Line2D at 0x7f67755a6160>,\n",
       "  <matplotlib.lines.Line2D at 0x7f67755a6b80>],\n",
       " 'caps': [<matplotlib.lines.Line2D at 0x7f6775159310>,\n",
       "  <matplotlib.lines.Line2D at 0x7f6775159580>],\n",
       " 'boxes': [<matplotlib.lines.Line2D at 0x7f67755a6400>],\n",
       " 'medians': [<matplotlib.lines.Line2D at 0x7f6775159700>],\n",
       " 'fliers': [<matplotlib.lines.Line2D at 0x7f6775159c70>],\n",
       " 'means': []}"
      ]
     },
     "execution_count": 63,
     "metadata": {},
     "output_type": "execute_result"
    },
    {
     "data": {
      "image/png": "[encoded data removed]",
      "text/plain": [
       "<Figure size 720x1440 with 1 Axes>"
      ]
     },
     "metadata": {
      "needs_background": "light"
     },
     "output_type": "display_data"
    }
   ],
   "source": [
    "data = df_grouped['Average Order Value per Customer']\n",
    "fig, ax = plt.subplots(figsize=(10,20))\n",
    "ax.set_title('Notched boxes')\n",
    "ax.boxplot(data, notch=True)"
   ]
  },
  {
   "cell_type": "markdown",
   "id": "c62e8f18",
   "metadata": {},
   "source": [
    "<b> Clearly we have some outliers for Average Order Value with the customers as well"
   ]
  },
  {
   "cell_type": "code",
   "execution_count": 73,
   "id": "78a4f714",
   "metadata": {},
   "outputs": [
    {
     "data": {
      "text/html": [
       "<div>\n",
       "<style scoped>\n",
       "    .dataframe tbody tr th:only-of-type {\n",
       "        vertical-align: middle;\n",
       "    }\n",
       "\n",
       "    .dataframe tbody tr th {\n",
       "        vertical-align: top;\n",
       "    }\n",
       "\n",
       "    .dataframe thead th {\n",
       "        text-align: right;\n",
       "    }\n",
       "</style>\n",
       "<table border=\"1\" class=\"dataframe\">\n",
       "  <thead>\n",
       "    <tr style=\"text-align: right;\">\n",
       "      <th></th>\n",
       "      <th>order_amount</th>\n",
       "      <th>total_items</th>\n",
       "      <th>Average Order Value per Customer</th>\n",
       "    </tr>\n",
       "    <tr>\n",
       "      <th>user_id</th>\n",
       "      <th></th>\n",
       "      <th></th>\n",
       "      <th></th>\n",
       "    </tr>\n",
       "  </thead>\n",
       "  <tbody>\n",
       "    <tr>\n",
       "      <th>878</th>\n",
       "      <td>156936</td>\n",
       "      <td>24</td>\n",
       "      <td>6539.0</td>\n",
       "    </tr>\n",
       "  </tbody>\n",
       "</table>\n",
       "</div>"
      ],
      "text/plain": [
       "         order_amount  total_items  Average Order Value per Customer\n",
       "user_id                                                             \n",
       "878            156936           24                            6539.0"
      ]
     },
     "execution_count": 73,
     "metadata": {},
     "output_type": "execute_result"
    }
   ],
   "source": [
    "df_grouped.sort_values(by=['Average Order Value per Customer'], ascending=False).head(1)"
   ]
  },
  {
   "cell_type": "code",
   "execution_count": 74,
   "id": "518d7c4d",
   "metadata": {},
   "outputs": [
    {
     "data": {
      "text/html": [
       "<div>\n",
       "<style scoped>\n",
       "    .dataframe tbody tr th:only-of-type {\n",
       "        vertical-align: middle;\n",
       "    }\n",
       "\n",
       "    .dataframe tbody tr th {\n",
       "        vertical-align: top;\n",
       "    }\n",
       "\n",
       "    .dataframe thead th {\n",
       "        text-align: right;\n",
       "    }\n",
       "</style>\n",
       "<table border=\"1\" class=\"dataframe\">\n",
       "  <thead>\n",
       "    <tr style=\"text-align: right;\">\n",
       "      <th></th>\n",
       "      <th>order_id</th>\n",
       "      <th>shop_id</th>\n",
       "      <th>user_id</th>\n",
       "      <th>order_amount</th>\n",
       "      <th>total_items</th>\n",
       "      <th>payment_method</th>\n",
       "      <th>created_at</th>\n",
       "      <th>order_amount_per_item</th>\n",
       "    </tr>\n",
       "  </thead>\n",
       "  <tbody>\n",
       "    <tr>\n",
       "      <th>691</th>\n",
       "      <td>692</td>\n",
       "      <td>78</td>\n",
       "      <td>878</td>\n",
       "      <td>154350</td>\n",
       "      <td>6</td>\n",
       "      <td>debit</td>\n",
       "      <td>2017-03-27 22:51:43</td>\n",
       "      <td>25725.0</td>\n",
       "    </tr>\n",
       "    <tr>\n",
       "      <th>818</th>\n",
       "      <td>819</td>\n",
       "      <td>60</td>\n",
       "      <td>878</td>\n",
       "      <td>354</td>\n",
       "      <td>2</td>\n",
       "      <td>debit</td>\n",
       "      <td>2017-03-27 12:42:01</td>\n",
       "      <td>177.0</td>\n",
       "    </tr>\n",
       "    <tr>\n",
       "      <th>927</th>\n",
       "      <td>928</td>\n",
       "      <td>2</td>\n",
       "      <td>878</td>\n",
       "      <td>94</td>\n",
       "      <td>1</td>\n",
       "      <td>credit_card</td>\n",
       "      <td>2017-03-10 18:09:05</td>\n",
       "      <td>94.0</td>\n",
       "    </tr>\n",
       "    <tr>\n",
       "      <th>1575</th>\n",
       "      <td>1576</td>\n",
       "      <td>47</td>\n",
       "      <td>878</td>\n",
       "      <td>290</td>\n",
       "      <td>2</td>\n",
       "      <td>cash</td>\n",
       "      <td>2017-03-07 22:06:51</td>\n",
       "      <td>145.0</td>\n",
       "    </tr>\n",
       "    <tr>\n",
       "      <th>1833</th>\n",
       "      <td>1834</td>\n",
       "      <td>74</td>\n",
       "      <td>878</td>\n",
       "      <td>153</td>\n",
       "      <td>1</td>\n",
       "      <td>credit_card</td>\n",
       "      <td>2017-03-06 17:33:21</td>\n",
       "      <td>153.0</td>\n",
       "    </tr>\n",
       "    <tr>\n",
       "      <th>2011</th>\n",
       "      <td>2012</td>\n",
       "      <td>87</td>\n",
       "      <td>878</td>\n",
       "      <td>298</td>\n",
       "      <td>2</td>\n",
       "      <td>cash</td>\n",
       "      <td>2017-03-04 14:14:35</td>\n",
       "      <td>149.0</td>\n",
       "    </tr>\n",
       "    <tr>\n",
       "      <th>3474</th>\n",
       "      <td>3475</td>\n",
       "      <td>20</td>\n",
       "      <td>878</td>\n",
       "      <td>254</td>\n",
       "      <td>2</td>\n",
       "      <td>cash</td>\n",
       "      <td>2017-03-17 3:43:03</td>\n",
       "      <td>127.0</td>\n",
       "    </tr>\n",
       "    <tr>\n",
       "      <th>3647</th>\n",
       "      <td>3648</td>\n",
       "      <td>98</td>\n",
       "      <td>878</td>\n",
       "      <td>266</td>\n",
       "      <td>2</td>\n",
       "      <td>cash</td>\n",
       "      <td>2017-03-06 1:49:57</td>\n",
       "      <td>133.0</td>\n",
       "    </tr>\n",
       "    <tr>\n",
       "      <th>4106</th>\n",
       "      <td>4107</td>\n",
       "      <td>26</td>\n",
       "      <td>878</td>\n",
       "      <td>176</td>\n",
       "      <td>1</td>\n",
       "      <td>debit</td>\n",
       "      <td>2017-03-20 4:32:18</td>\n",
       "      <td>176.0</td>\n",
       "    </tr>\n",
       "    <tr>\n",
       "      <th>4215</th>\n",
       "      <td>4216</td>\n",
       "      <td>80</td>\n",
       "      <td>878</td>\n",
       "      <td>435</td>\n",
       "      <td>3</td>\n",
       "      <td>debit</td>\n",
       "      <td>2017-03-05 3:07:32</td>\n",
       "      <td>145.0</td>\n",
       "    </tr>\n",
       "    <tr>\n",
       "      <th>4670</th>\n",
       "      <td>4671</td>\n",
       "      <td>98</td>\n",
       "      <td>878</td>\n",
       "      <td>266</td>\n",
       "      <td>2</td>\n",
       "      <td>debit</td>\n",
       "      <td>2017-03-30 0:22:20</td>\n",
       "      <td>133.0</td>\n",
       "    </tr>\n",
       "  </tbody>\n",
       "</table>\n",
       "</div>"
      ],
      "text/plain": [
       "      order_id  shop_id  user_id  order_amount  total_items payment_method  \\\n",
       "691        692       78      878        154350            6          debit   \n",
       "818        819       60      878           354            2          debit   \n",
       "927        928        2      878            94            1    credit_card   \n",
       "1575      1576       47      878           290            2           cash   \n",
       "1833      1834       74      878           153            1    credit_card   \n",
       "2011      2012       87      878           298            2           cash   \n",
       "3474      3475       20      878           254            2           cash   \n",
       "3647      3648       98      878           266            2           cash   \n",
       "4106      4107       26      878           176            1          debit   \n",
       "4215      4216       80      878           435            3          debit   \n",
       "4670      4671       98      878           266            2          debit   \n",
       "\n",
       "               created_at  order_amount_per_item  \n",
       "691   2017-03-27 22:51:43                25725.0  \n",
       "818   2017-03-27 12:42:01                  177.0  \n",
       "927   2017-03-10 18:09:05                   94.0  \n",
       "1575  2017-03-07 22:06:51                  145.0  \n",
       "1833  2017-03-06 17:33:21                  153.0  \n",
       "2011  2017-03-04 14:14:35                  149.0  \n",
       "3474   2017-03-17 3:43:03                  127.0  \n",
       "3647   2017-03-06 1:49:57                  133.0  \n",
       "4106   2017-03-20 4:32:18                  176.0  \n",
       "4215   2017-03-05 3:07:32                  145.0  \n",
       "4670   2017-03-30 0:22:20                  133.0  "
      ]
     },
     "execution_count": 74,
     "metadata": {},
     "output_type": "execute_result"
    }
   ],
   "source": [
    "df[df['user_id'] == 878]"
   ]
  },
  {
   "cell_type": "markdown",
   "id": "1223ad46",
   "metadata": {},
   "source": [
    "<b> Thus we observe that while other users also purchased 1-3 sneakers from store 78 in the 30 day period, user 878 purchased the maximum number (6) sneakers from store 78 resulting in a very high order amount of $154350. This transaction is definitely suspicious and needs further investigation. "
   ]
  },
  {
   "cell_type": "markdown",
   "id": "5fb95975",
   "metadata": {},
   "source": [
    "## Using Median"
   ]
  },
  {
   "cell_type": "code",
   "execution_count": 77,
   "id": "e26fedca",
   "metadata": {},
   "outputs": [
    {
     "data": {
      "text/html": [
       "<div>\n",
       "<style scoped>\n",
       "    .dataframe tbody tr th:only-of-type {\n",
       "        vertical-align: middle;\n",
       "    }\n",
       "\n",
       "    .dataframe tbody tr th {\n",
       "        vertical-align: top;\n",
       "    }\n",
       "\n",
       "    .dataframe thead th {\n",
       "        text-align: right;\n",
       "    }\n",
       "</style>\n",
       "<table border=\"1\" class=\"dataframe\">\n",
       "  <thead>\n",
       "    <tr style=\"text-align: right;\">\n",
       "      <th></th>\n",
       "      <th>order_amount</th>\n",
       "      <th>total_items</th>\n",
       "      <th>Median Order Value</th>\n",
       "    </tr>\n",
       "    <tr>\n",
       "      <th>user_id</th>\n",
       "      <th></th>\n",
       "      <th></th>\n",
       "      <th></th>\n",
       "    </tr>\n",
       "  </thead>\n",
       "  <tbody>\n",
       "    <tr>\n",
       "      <th>607</th>\n",
       "      <td>704000.0</td>\n",
       "      <td>2000.0</td>\n",
       "      <td>352.000000</td>\n",
       "    </tr>\n",
       "    <tr>\n",
       "      <th>946</th>\n",
       "      <td>258.0</td>\n",
       "      <td>1.0</td>\n",
       "      <td>258.000000</td>\n",
       "    </tr>\n",
       "    <tr>\n",
       "      <th>770</th>\n",
       "      <td>242.0</td>\n",
       "      <td>1.0</td>\n",
       "      <td>242.000000</td>\n",
       "    </tr>\n",
       "    <tr>\n",
       "      <th>792</th>\n",
       "      <td>218.5</td>\n",
       "      <td>1.0</td>\n",
       "      <td>218.500000</td>\n",
       "    </tr>\n",
       "    <tr>\n",
       "      <th>866</th>\n",
       "      <td>308.0</td>\n",
       "      <td>1.5</td>\n",
       "      <td>205.333333</td>\n",
       "    </tr>\n",
       "  </tbody>\n",
       "</table>\n",
       "</div>"
      ],
      "text/plain": [
       "         order_amount  total_items  Median Order Value\n",
       "user_id                                               \n",
       "607          704000.0       2000.0          352.000000\n",
       "946             258.0          1.0          258.000000\n",
       "770             242.0          1.0          242.000000\n",
       "792             218.5          1.0          218.500000\n",
       "866             308.0          1.5          205.333333"
      ]
     },
     "execution_count": 77,
     "metadata": {},
     "output_type": "execute_result"
    }
   ],
   "source": [
    "df_grouped = df.groupby('user_id')[['order_amount']].median()\n",
    "df_grouped['total_items'] = df.groupby('user_id')[['total_items']].median()\n",
    "df_grouped['Median Order Value'] = df_grouped['order_amount']/df_grouped['total_items']\n",
    "df_grouped.sort_values(by=['Median Order Value'], ascending=False).head()"
   ]
  },
  {
   "cell_type": "code",
   "execution_count": 79,
   "id": "a9a7753f",
   "metadata": {},
   "outputs": [
    {
     "data": {
      "text/plain": [
       "149.0"
      ]
     },
     "execution_count": 79,
     "metadata": {},
     "output_type": "execute_result"
    }
   ],
   "source": [
    "df_grouped['Median Order Value'].median()"
   ]
  },
  {
   "cell_type": "code",
   "execution_count": 80,
   "id": "d50230bd",
   "metadata": {
    "scrolled": true
   },
   "outputs": [
    {
     "data": {
      "text/plain": [
       "{'whiskers': [<matplotlib.lines.Line2D at 0x7f677539e2e0>,\n",
       "  <matplotlib.lines.Line2D at 0x7f677539e370>],\n",
       " 'caps': [<matplotlib.lines.Line2D at 0x7f677539efa0>,\n",
       "  <matplotlib.lines.Line2D at 0x7f6774ccc460>],\n",
       " 'boxes': [<matplotlib.lines.Line2D at 0x7f677539ed00>],\n",
       " 'medians': [<matplotlib.lines.Line2D at 0x7f6774ccc940>],\n",
       " 'fliers': [<matplotlib.lines.Line2D at 0x7f6774ef94f0>],\n",
       " 'means': []}"
      ]
     },
     "execution_count": 80,
     "metadata": {},
     "output_type": "execute_result"
    },
    {
     "data": {
      "image/png": "[encoded data removed]",
      "text/plain": [
       "<Figure size 720x1440 with 1 Axes>"
      ]
     },
     "metadata": {
      "needs_background": "light"
     },
     "output_type": "display_data"
    }
   ],
   "source": [
    "data = df_grouped['Median Order Value']\n",
    "fig, ax = plt.subplots(figsize=(10,20))\n",
    "ax.set_title('Notched boxes')\n",
    "ax.boxplot(data, notch=True)"
   ]
  },
  {
   "cell_type": "markdown",
   "id": "7c1babef",
   "metadata": {},
   "source": [
    "<b> The use of Median gives us another discovery of user_id 607 with the highest order amount of 70400"
   ]
  },
  {
   "cell_type": "code",
   "execution_count": 42,
   "id": "b61282b2",
   "metadata": {},
   "outputs": [
    {
     "data": {
      "text/html": [
       "<div>\n",
       "<style scoped>\n",
       "    .dataframe tbody tr th:only-of-type {\n",
       "        vertical-align: middle;\n",
       "    }\n",
       "\n",
       "    .dataframe tbody tr th {\n",
       "        vertical-align: top;\n",
       "    }\n",
       "\n",
       "    .dataframe thead th {\n",
       "        text-align: right;\n",
       "    }\n",
       "</style>\n",
       "<table border=\"1\" class=\"dataframe\">\n",
       "  <thead>\n",
       "    <tr style=\"text-align: right;\">\n",
       "      <th></th>\n",
       "      <th>order_id</th>\n",
       "      <th>shop_id</th>\n",
       "      <th>user_id</th>\n",
       "      <th>order_amount</th>\n",
       "      <th>total_items</th>\n",
       "      <th>payment_method</th>\n",
       "      <th>created_at</th>\n",
       "    </tr>\n",
       "  </thead>\n",
       "  <tbody>\n",
       "    <tr>\n",
       "      <th>15</th>\n",
       "      <td>16</td>\n",
       "      <td>42</td>\n",
       "      <td>607</td>\n",
       "      <td>704000</td>\n",
       "      <td>2000</td>\n",
       "      <td>credit_card</td>\n",
       "      <td>2017-03-07 4:00:00</td>\n",
       "    </tr>\n",
       "    <tr>\n",
       "      <th>60</th>\n",
       "      <td>61</td>\n",
       "      <td>42</td>\n",
       "      <td>607</td>\n",
       "      <td>704000</td>\n",
       "      <td>2000</td>\n",
       "      <td>credit_card</td>\n",
       "      <td>2017-03-04 4:00:00</td>\n",
       "    </tr>\n",
       "    <tr>\n",
       "      <th>520</th>\n",
       "      <td>521</td>\n",
       "      <td>42</td>\n",
       "      <td>607</td>\n",
       "      <td>704000</td>\n",
       "      <td>2000</td>\n",
       "      <td>credit_card</td>\n",
       "      <td>2017-03-02 4:00:00</td>\n",
       "    </tr>\n",
       "    <tr>\n",
       "      <th>1104</th>\n",
       "      <td>1105</td>\n",
       "      <td>42</td>\n",
       "      <td>607</td>\n",
       "      <td>704000</td>\n",
       "      <td>2000</td>\n",
       "      <td>credit_card</td>\n",
       "      <td>2017-03-24 4:00:00</td>\n",
       "    </tr>\n",
       "    <tr>\n",
       "      <th>1362</th>\n",
       "      <td>1363</td>\n",
       "      <td>42</td>\n",
       "      <td>607</td>\n",
       "      <td>704000</td>\n",
       "      <td>2000</td>\n",
       "      <td>credit_card</td>\n",
       "      <td>2017-03-15 4:00:00</td>\n",
       "    </tr>\n",
       "    <tr>\n",
       "      <th>1436</th>\n",
       "      <td>1437</td>\n",
       "      <td>42</td>\n",
       "      <td>607</td>\n",
       "      <td>704000</td>\n",
       "      <td>2000</td>\n",
       "      <td>credit_card</td>\n",
       "      <td>2017-03-11 4:00:00</td>\n",
       "    </tr>\n",
       "    <tr>\n",
       "      <th>1562</th>\n",
       "      <td>1563</td>\n",
       "      <td>42</td>\n",
       "      <td>607</td>\n",
       "      <td>704000</td>\n",
       "      <td>2000</td>\n",
       "      <td>credit_card</td>\n",
       "      <td>2017-03-19 4:00:00</td>\n",
       "    </tr>\n",
       "    <tr>\n",
       "      <th>1602</th>\n",
       "      <td>1603</td>\n",
       "      <td>42</td>\n",
       "      <td>607</td>\n",
       "      <td>704000</td>\n",
       "      <td>2000</td>\n",
       "      <td>credit_card</td>\n",
       "      <td>2017-03-17 4:00:00</td>\n",
       "    </tr>\n",
       "    <tr>\n",
       "      <th>2153</th>\n",
       "      <td>2154</td>\n",
       "      <td>42</td>\n",
       "      <td>607</td>\n",
       "      <td>704000</td>\n",
       "      <td>2000</td>\n",
       "      <td>credit_card</td>\n",
       "      <td>2017-03-12 4:00:00</td>\n",
       "    </tr>\n",
       "    <tr>\n",
       "      <th>2297</th>\n",
       "      <td>2298</td>\n",
       "      <td>42</td>\n",
       "      <td>607</td>\n",
       "      <td>704000</td>\n",
       "      <td>2000</td>\n",
       "      <td>credit_card</td>\n",
       "      <td>2017-03-07 4:00:00</td>\n",
       "    </tr>\n",
       "    <tr>\n",
       "      <th>2835</th>\n",
       "      <td>2836</td>\n",
       "      <td>42</td>\n",
       "      <td>607</td>\n",
       "      <td>704000</td>\n",
       "      <td>2000</td>\n",
       "      <td>credit_card</td>\n",
       "      <td>2017-03-28 4:00:00</td>\n",
       "    </tr>\n",
       "    <tr>\n",
       "      <th>2969</th>\n",
       "      <td>2970</td>\n",
       "      <td>42</td>\n",
       "      <td>607</td>\n",
       "      <td>704000</td>\n",
       "      <td>2000</td>\n",
       "      <td>credit_card</td>\n",
       "      <td>2017-03-28 4:00:00</td>\n",
       "    </tr>\n",
       "    <tr>\n",
       "      <th>3332</th>\n",
       "      <td>3333</td>\n",
       "      <td>42</td>\n",
       "      <td>607</td>\n",
       "      <td>704000</td>\n",
       "      <td>2000</td>\n",
       "      <td>credit_card</td>\n",
       "      <td>2017-03-24 4:00:00</td>\n",
       "    </tr>\n",
       "    <tr>\n",
       "      <th>4056</th>\n",
       "      <td>4057</td>\n",
       "      <td>42</td>\n",
       "      <td>607</td>\n",
       "      <td>704000</td>\n",
       "      <td>2000</td>\n",
       "      <td>credit_card</td>\n",
       "      <td>2017-03-28 4:00:00</td>\n",
       "    </tr>\n",
       "    <tr>\n",
       "      <th>4646</th>\n",
       "      <td>4647</td>\n",
       "      <td>42</td>\n",
       "      <td>607</td>\n",
       "      <td>704000</td>\n",
       "      <td>2000</td>\n",
       "      <td>credit_card</td>\n",
       "      <td>2017-03-02 4:00:00</td>\n",
       "    </tr>\n",
       "    <tr>\n",
       "      <th>4868</th>\n",
       "      <td>4869</td>\n",
       "      <td>42</td>\n",
       "      <td>607</td>\n",
       "      <td>704000</td>\n",
       "      <td>2000</td>\n",
       "      <td>credit_card</td>\n",
       "      <td>2017-03-22 4:00:00</td>\n",
       "    </tr>\n",
       "    <tr>\n",
       "      <th>4882</th>\n",
       "      <td>4883</td>\n",
       "      <td>42</td>\n",
       "      <td>607</td>\n",
       "      <td>704000</td>\n",
       "      <td>2000</td>\n",
       "      <td>credit_card</td>\n",
       "      <td>2017-03-25 4:00:00</td>\n",
       "    </tr>\n",
       "  </tbody>\n",
       "</table>\n",
       "</div>"
      ],
      "text/plain": [
       "      order_id  shop_id  user_id  order_amount  total_items payment_method  \\\n",
       "15          16       42      607        704000         2000    credit_card   \n",
       "60          61       42      607        704000         2000    credit_card   \n",
       "520        521       42      607        704000         2000    credit_card   \n",
       "1104      1105       42      607        704000         2000    credit_card   \n",
       "1362      1363       42      607        704000         2000    credit_card   \n",
       "1436      1437       42      607        704000         2000    credit_card   \n",
       "1562      1563       42      607        704000         2000    credit_card   \n",
       "1602      1603       42      607        704000         2000    credit_card   \n",
       "2153      2154       42      607        704000         2000    credit_card   \n",
       "2297      2298       42      607        704000         2000    credit_card   \n",
       "2835      2836       42      607        704000         2000    credit_card   \n",
       "2969      2970       42      607        704000         2000    credit_card   \n",
       "3332      3333       42      607        704000         2000    credit_card   \n",
       "4056      4057       42      607        704000         2000    credit_card   \n",
       "4646      4647       42      607        704000         2000    credit_card   \n",
       "4868      4869       42      607        704000         2000    credit_card   \n",
       "4882      4883       42      607        704000         2000    credit_card   \n",
       "\n",
       "              created_at  \n",
       "15    2017-03-07 4:00:00  \n",
       "60    2017-03-04 4:00:00  \n",
       "520   2017-03-02 4:00:00  \n",
       "1104  2017-03-24 4:00:00  \n",
       "1362  2017-03-15 4:00:00  \n",
       "1436  2017-03-11 4:00:00  \n",
       "1562  2017-03-19 4:00:00  \n",
       "1602  2017-03-17 4:00:00  \n",
       "2153  2017-03-12 4:00:00  \n",
       "2297  2017-03-07 4:00:00  \n",
       "2835  2017-03-28 4:00:00  \n",
       "2969  2017-03-28 4:00:00  \n",
       "3332  2017-03-24 4:00:00  \n",
       "4056  2017-03-28 4:00:00  \n",
       "4646  2017-03-02 4:00:00  \n",
       "4868  2017-03-22 4:00:00  \n",
       "4882  2017-03-25 4:00:00  "
      ]
     },
     "execution_count": 42,
     "metadata": {},
     "output_type": "execute_result"
    }
   ],
   "source": [
    "df[df['user_id'] == 607]"
   ]
  },
  {
   "cell_type": "markdown",
   "id": "dedd5ceb",
   "metadata": {},
   "source": [
    "<b>This shop 42 and user id 607 clearly looks suspicious since they have way too many orders (2000) per order and the order amount is also the highest. There are also orders made on the same date. This might be a data error or fraudulent transaction."
   ]
  },
  {
   "cell_type": "markdown",
   "id": "df1ed196",
   "metadata": {},
   "source": [
    "## Date wise analysis"
   ]
  },
  {
   "cell_type": "code",
   "execution_count": 81,
   "id": "69d2886c",
   "metadata": {},
   "outputs": [],
   "source": [
    "df['date_time'] = pd.to_datetime(df['created_at'])\n",
    "df['date'] = [d.date() for d in df[\"date_time\"]]"
   ]
  },
  {
   "cell_type": "code",
   "execution_count": 82,
   "id": "19db509b",
   "metadata": {},
   "outputs": [
    {
     "data": {
      "text/html": [
       "<div>\n",
       "<style scoped>\n",
       "    .dataframe tbody tr th:only-of-type {\n",
       "        vertical-align: middle;\n",
       "    }\n",
       "\n",
       "    .dataframe tbody tr th {\n",
       "        vertical-align: top;\n",
       "    }\n",
       "\n",
       "    .dataframe thead th {\n",
       "        text-align: right;\n",
       "    }\n",
       "</style>\n",
       "<table border=\"1\" class=\"dataframe\">\n",
       "  <thead>\n",
       "    <tr style=\"text-align: right;\">\n",
       "      <th></th>\n",
       "      <th>order_id</th>\n",
       "      <th>shop_id</th>\n",
       "      <th>user_id</th>\n",
       "      <th>order_amount</th>\n",
       "      <th>total_items</th>\n",
       "      <th>payment_method</th>\n",
       "      <th>created_at</th>\n",
       "      <th>order_amount_per_item</th>\n",
       "      <th>date_time</th>\n",
       "      <th>date</th>\n",
       "    </tr>\n",
       "  </thead>\n",
       "  <tbody>\n",
       "    <tr>\n",
       "      <th>0</th>\n",
       "      <td>1</td>\n",
       "      <td>53</td>\n",
       "      <td>746</td>\n",
       "      <td>224</td>\n",
       "      <td>2</td>\n",
       "      <td>cash</td>\n",
       "      <td>2017-03-13 12:36:56</td>\n",
       "      <td>112.0</td>\n",
       "      <td>2017-03-13 12:36:56</td>\n",
       "      <td>2017-03-13</td>\n",
       "    </tr>\n",
       "    <tr>\n",
       "      <th>1</th>\n",
       "      <td>2</td>\n",
       "      <td>92</td>\n",
       "      <td>925</td>\n",
       "      <td>90</td>\n",
       "      <td>1</td>\n",
       "      <td>cash</td>\n",
       "      <td>2017-03-03 17:38:52</td>\n",
       "      <td>90.0</td>\n",
       "      <td>2017-03-03 17:38:52</td>\n",
       "      <td>2017-03-03</td>\n",
       "    </tr>\n",
       "    <tr>\n",
       "      <th>2</th>\n",
       "      <td>3</td>\n",
       "      <td>44</td>\n",
       "      <td>861</td>\n",
       "      <td>144</td>\n",
       "      <td>1</td>\n",
       "      <td>cash</td>\n",
       "      <td>2017-03-14 4:23:56</td>\n",
       "      <td>144.0</td>\n",
       "      <td>2017-03-14 04:23:56</td>\n",
       "      <td>2017-03-14</td>\n",
       "    </tr>\n",
       "    <tr>\n",
       "      <th>3</th>\n",
       "      <td>4</td>\n",
       "      <td>18</td>\n",
       "      <td>935</td>\n",
       "      <td>156</td>\n",
       "      <td>1</td>\n",
       "      <td>credit_card</td>\n",
       "      <td>2017-03-26 12:43:37</td>\n",
       "      <td>156.0</td>\n",
       "      <td>2017-03-26 12:43:37</td>\n",
       "      <td>2017-03-26</td>\n",
       "    </tr>\n",
       "    <tr>\n",
       "      <th>4</th>\n",
       "      <td>5</td>\n",
       "      <td>18</td>\n",
       "      <td>883</td>\n",
       "      <td>156</td>\n",
       "      <td>1</td>\n",
       "      <td>credit_card</td>\n",
       "      <td>2017-03-01 4:35:11</td>\n",
       "      <td>156.0</td>\n",
       "      <td>2017-03-01 04:35:11</td>\n",
       "      <td>2017-03-01</td>\n",
       "    </tr>\n",
       "  </tbody>\n",
       "</table>\n",
       "</div>"
      ],
      "text/plain": [
       "   order_id  shop_id  user_id  order_amount  total_items payment_method  \\\n",
       "0         1       53      746           224            2           cash   \n",
       "1         2       92      925            90            1           cash   \n",
       "2         3       44      861           144            1           cash   \n",
       "3         4       18      935           156            1    credit_card   \n",
       "4         5       18      883           156            1    credit_card   \n",
       "\n",
       "            created_at  order_amount_per_item           date_time        date  \n",
       "0  2017-03-13 12:36:56                  112.0 2017-03-13 12:36:56  2017-03-13  \n",
       "1  2017-03-03 17:38:52                   90.0 2017-03-03 17:38:52  2017-03-03  \n",
       "2   2017-03-14 4:23:56                  144.0 2017-03-14 04:23:56  2017-03-14  \n",
       "3  2017-03-26 12:43:37                  156.0 2017-03-26 12:43:37  2017-03-26  \n",
       "4   2017-03-01 4:35:11                  156.0 2017-03-01 04:35:11  2017-03-01  "
      ]
     },
     "execution_count": 82,
     "metadata": {},
     "output_type": "execute_result"
    }
   ],
   "source": [
    "df.head()"
   ]
  },
  {
   "cell_type": "code",
   "execution_count": 51,
   "id": "d14911c4",
   "metadata": {},
   "outputs": [],
   "source": [
    "df_grouped = df.groupby('date')[['order_amount']].sum()"
   ]
  },
  {
   "cell_type": "code",
   "execution_count": 57,
   "id": "9bd90cf5",
   "metadata": {},
   "outputs": [
    {
     "data": {
      "text/plain": [
       "Index([2017-03-01, 2017-03-02, 2017-03-03, 2017-03-04, 2017-03-05, 2017-03-06,\n",
       "       2017-03-07, 2017-03-08, 2017-03-09, 2017-03-10, 2017-03-11, 2017-03-12,\n",
       "       2017-03-13, 2017-03-14, 2017-03-15, 2017-03-16, 2017-03-17, 2017-03-18,\n",
       "       2017-03-19, 2017-03-20, 2017-03-21, 2017-03-22, 2017-03-23, 2017-03-24,\n",
       "       2017-03-25, 2017-03-26, 2017-03-27, 2017-03-28, 2017-03-29, 2017-03-30],\n",
       "      dtype='object', name='date')"
      ]
     },
     "execution_count": 57,
     "metadata": {},
     "output_type": "execute_result"
    }
   ],
   "source": [
    "df_grouped.index"
   ]
  },
  {
   "cell_type": "code",
   "execution_count": 61,
   "id": "4dcbdec6",
   "metadata": {},
   "outputs": [
    {
     "data": {
      "image/png": "[encoded data removed]",
      "text/plain": [
       "<Figure size 1440x720 with 1 Axes>"
      ]
     },
     "metadata": {
      "needs_background": "light"
     },
     "output_type": "display_data"
    }
   ],
   "source": [
    "import matplotlib.pyplot as plt\n",
    "\n",
    "x = df_grouped.index\n",
    "y = df_grouped['order_amount']\n",
    "\n",
    "fig, ax = plt.subplots(figsize=(20, 10))\n",
    "ax.set_xlabel('Date')\n",
    "ax.set_ylabel('Total Order Amount')\n",
    "plt.plot(x, y)\n",
    "plt.show()"
   ]
  },
  {
   "cell_type": "markdown",
   "id": "6b0b83eb",
   "metadata": {},
   "source": [
    "<b> Since it is just a 30 day period it is hard to say about trends. More data for months need to be collected for each shop to understand patterns and comment on sneaker sales. "
   ]
  },
  {
   "cell_type": "markdown",
   "id": "ac696120",
   "metadata": {},
   "source": [
    "## Conclusion"
   ]
  },
  {
   "cell_type": "markdown",
   "id": "6a49577b",
   "metadata": {},
   "source": [
    "<b> 1a. </b><br>\n",
    "The sales for sneaker sales calculated in the question had a major error of not taking total items into account. When we considered total items and calculate the average order value it comes out to be $357.92 which is still pretty high. <br>\n",
    "So, we can dig deeper and find outliers shop and customer wise. This gives us opportunity to explore the errors in our database and analyze sales.\n",
    "<br><br>\n",
    "\n",
    "<b> 1b. </b><br>\n",
    "A better method to measure the sales would be median order value since median calculation is not affected by outliers and gives us a more realistic measure of an overall picture.\n",
    "<br><br>\n",
    "\n",
    "<b> 1c. </b><br>\n",
    "The median order value is $153. "
   ]
  },
  {
   "cell_type": "markdown",
   "id": "d5f0af1a",
   "metadata": {},
   "source": [
    "<br>"
   ]
  },
  {
   "cell_type": "markdown",
   "id": "af3ff4a0",
   "metadata": {},
   "source": [
    "# Question 2\n",
    "<b><br>\n",
    "Please use queries to answer the following questions. Paste your queries along with your final numerical answers below. <br>\n",
    "\n",
    "1. How many orders were shipped by Speedy Express in total? <br>\n",
    "2. What is the last name of the employee with the most orders? <br>\n",
    "3. What product was ordered the most by customers in Germany? <br>\n",
    "</b>"
   ]
  },
  {
   "cell_type": "markdown",
   "id": "7346bd06",
   "metadata": {},
   "source": [
    "## Solutions"
   ]
  },
  {
   "cell_type": "markdown",
   "id": "35ce81d9",
   "metadata": {},
   "source": [
    "<b> 1. How many orders were shipped by Speedy Express in total?"
   ]
  },
  {
   "cell_type": "code",
   "execution_count": null,
   "id": "34b0590d",
   "metadata": {},
   "outputs": [],
   "source": [
    "# Counting Orders of the fetched ShipperID\n",
    "SELECT COUNT(OrderID) FROM Orders\n",
    "WHERE ShipperID IN \n",
    "(\n",
    "    # Getting ShipperID of Speedy Express\n",
    "    SELECT ShipperID \n",
    "    FROM Shippers \n",
    "    WHERE ShipperName = 'Speedy Express'\n",
    ");"
   ]
  },
  {
   "cell_type": "markdown",
   "id": "eada124d",
   "metadata": {},
   "source": [
    "Output:"
   ]
  },
  {
   "attachments": {
    "Screenshot%202022-01-09%20at%201.24.55%20PM.png": {
     "image/png": "[encoded data removed]"
    }
   },
   "cell_type": "markdown",
   "id": "bcfb6548",
   "metadata": {},
   "source": [
    "![Screenshot%202022-01-09%20at%201.24.55%20PM.png](attachment:Screenshot%202022-01-09%20at%201.24.55%20PM.png)"
   ]
  },
  {
   "cell_type": "markdown",
   "id": "1aed408d",
   "metadata": {},
   "source": [
    "<b>Ans: 54</b>\n",
    "<br><br><br><br>"
   ]
  },
  {
   "cell_type": "markdown",
   "id": "205c9b84",
   "metadata": {},
   "source": [
    "<b>2. What is the last name of the employee with the most orders?"
   ]
  },
  {
   "cell_type": "code",
   "execution_count": null,
   "id": "61f854f1",
   "metadata": {},
   "outputs": [],
   "source": [
    "# Getting Last Name of the subsetted employee\n",
    "SELECT LastName\n",
    "FROM Employees\n",
    "WHERE EmployeeID IN \n",
    "(\n",
    "    # Getting EmployeeID of Employee with most orders\n",
    "    SELECT EmployeeID\n",
    "    FROM Orders\n",
    "    GROUP BY EmployeeID \n",
    "    ORDER BY COUNT(OrderID) DESC\n",
    "    LIMIT 1\n",
    ");"
   ]
  },
  {
   "cell_type": "markdown",
   "id": "a97864c1",
   "metadata": {},
   "source": [
    "Output"
   ]
  },
  {
   "attachments": {
    "Screenshot%202022-01-09%20at%201.48.18%20PM.png": {
     "image/png": "[encoded data removed]"
    }
   },
   "cell_type": "markdown",
   "id": "ce6bdef1",
   "metadata": {},
   "source": [
    "![Screenshot%202022-01-09%20at%201.48.18%20PM.png](attachment:Screenshot%202022-01-09%20at%201.48.18%20PM.png)"
   ]
  },
  {
   "cell_type": "code",
   "execution_count": null,
   "id": "cc77a92d",
   "metadata": {},
   "outputs": [],
   "source": [
    "## To get the num_orders of the employee with most orders with the name, we can use join instead of subquery\n",
    "\n",
    "# Common Table Expression for fetching Employee ID and number of orders\n",
    "With temp_cte as \n",
    "(\n",
    "    SELECT EmployeeID, COUNT(OrderID) as num_orders \n",
    "    FROM Orders\n",
    "    GROUP BY EmployeeID\n",
    ")\n",
    "# Fetching all details from the join of CTE and Employees table for Employee having most orders\n",
    "SELECT e.EmployeeID, FirstName, LastName, num_orders\n",
    "FROM Employees e LEFT JOIN temp_cte tc \n",
    "ON e.EmployeeID = tc.EmployeeID\n",
    "ORDER BY num_orders DESC\n",
    "LIMIT 1;"
   ]
  },
  {
   "cell_type": "markdown",
   "id": "d2ade793",
   "metadata": {},
   "source": [
    "Output"
   ]
  },
  {
   "attachments": {
    "Screenshot%202022-01-09%20at%201.55.05%20PM.png": {
     "image/png": "[encoded data removed]"
    }
   },
   "cell_type": "markdown",
   "id": "5a0a6cad",
   "metadata": {},
   "source": [
    "![Screenshot%202022-01-09%20at%201.55.05%20PM.png](attachment:Screenshot%202022-01-09%20at%201.55.05%20PM.png)"
   ]
  },
  {
   "cell_type": "markdown",
   "id": "c4e646f8",
   "metadata": {},
   "source": [
    "<b>Ans: Peacock</b>\n",
    "<br><br><br><br>"
   ]
  },
  {
   "cell_type": "markdown",
   "id": "4b2e8554",
   "metadata": {},
   "source": [
    "<b>What product was ordered the most by customers in Germany?"
   ]
  },
  {
   "cell_type": "code",
   "execution_count": null,
   "id": "9e7f4a71",
   "metadata": {},
   "outputs": [],
   "source": [
    "# Getting Product Name and quantity by combining four tables Orders, Order Details, Customers, Products\n",
    "# For Country Germany and for Product that was most ordered there\n",
    "SELECT p.ProductID, ProductName, SUM(Quantity) AS net_qty\n",
    "FROM Orders o, OrderDetails od, Customers c, Products p\n",
    "WHERE Country = \"Germany\" \n",
    "AND o.OrderID = od.OrderID \n",
    "AND o.CustomerID = c.CustomerID \n",
    "AND od.ProductID = p.ProductID\n",
    "GROUP BY p.ProductID\n",
    "ORDER BY SUM(Quantity) DESC\n",
    "LIMIT 1;"
   ]
  },
  {
   "cell_type": "markdown",
   "id": "7c0dac1c",
   "metadata": {},
   "source": [
    "Output:"
   ]
  },
  {
   "attachments": {
    "Screenshot%202022-01-09%20at%202.19.52%20PM.png": {
     "image/png": "[encoded data removed]"
    }
   },
   "cell_type": "markdown",
   "id": "32501c42",
   "metadata": {},
   "source": [
    "![Screenshot%202022-01-09%20at%202.19.52%20PM.png](attachment:Screenshot%202022-01-09%20at%202.19.52%20PM.png)"
   ]
  },
  {
   "cell_type": "markdown",
   "id": "e8dc815b",
   "metadata": {},
   "source": [
    "<b>Ans: <br>Product ID 40 <br>Product Name: Boston Crab Meat <br>with net order quanity 160</b>\n",
    "<br><br><br><br>"
   ]
  },
  {
   "cell_type": "markdown",
   "id": "572c1367",
   "metadata": {},
   "source": [
    "## END OF SUBMISSION"
   ]
  }
 ],
 "metadata": {
  "kernelspec": {
   "display_name": "Python 3 (ipykernel)",
   "language": "python",
   "name": "python3"
  },
  "language_info": {
   "codemirror_mode": {
    "name": "ipython",
    "version": 3
   },
   "file_extension": ".py",
   "mimetype": "text/x-python",
   "name": "python",
   "nbconvert_exporter": "python",
   "pygments_lexer": "ipython3",
   "version": "3.8.12"
  }
 },
 "nbformat": 4,
 "nbformat_minor": 5
}
